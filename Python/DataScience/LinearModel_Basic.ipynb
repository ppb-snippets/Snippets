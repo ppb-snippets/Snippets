{
 "cells": [
  {
   "cell_type": "code",
   "execution_count": 16,
   "metadata": {
    "collapsed": true
   },
   "outputs": [],
   "source": [
    "import time\n",
    "import datetime as dt\n",
    "\n",
    "import numpy as np\n",
    "import pandas as pd\n",
    "\n",
    "import sklearn\n",
    "from sklearn import linear_model\n",
    "from sklearn import metrics\n",
    "\n",
    "import matplotlib.pyplot as plt\n",
    "from matplotlib import cm"
   ]
  },
  {
   "cell_type": "code",
   "execution_count": 2,
   "metadata": {},
   "outputs": [
    {
     "name": "stdout",
     "output_type": "stream",
     "text": [
      "numpy version:  1.13.1\n",
      "scikit-learn version:  0.19.0\n",
      "pandas version:  0.20.3\n"
     ]
    }
   ],
   "source": [
    "print \"numpy version: \", np.__version__\n",
    "print \"scikit-learn version: \", sklearn.__version__\n",
    "print \"pandas version: \", pd.__version__"
   ]
  },
  {
   "cell_type": "code",
   "execution_count": 52,
   "metadata": {},
   "outputs": [],
   "source": [
    "# np.random.seed(0)\n",
    "np.random.seed(np.int64(time.clock()*1000))\n",
    "\n",
    "dlen = 100\n",
    "split = 0.7\n",
    "trainlen = np.int64(dlen * split)\n",
    "testlen = dlen - trainlen"
   ]
  },
  {
   "cell_type": "code",
   "execution_count": 53,
   "metadata": {
    "scrolled": true
   },
   "outputs": [
    {
     "name": "stdout",
     "output_type": "stream",
     "text": [
      ">head of df\n",
      "   Class     Value\n",
      "0      0  0.036387\n",
      "1      1  0.198533\n",
      "2      0  0.920645\n",
      "3      0  0.397389\n",
      "4      0  0.659461\n",
      "> tail of df\n",
      "    Class     Value\n",
      "95      1  0.513142\n",
      "96      1  0.415491\n",
      "97      0  0.361094\n",
      "98      1  0.309122\n",
      "99      1  0.415226\n",
      "> train size =  70\n",
      "> test size =  30\n"
     ]
    }
   ],
   "source": [
    "values = np.random.random(dlen)\n",
    "# values = np.linspace(0,1,dlen)\n",
    "\n",
    "classes = np.random.randint(0,2,dlen)\n",
    "# classes = [0 if x <0.3 else 1 for x in values]\n",
    "\n",
    "\n",
    "df = pd.DataFrame({'Value': values, \n",
    "                   'Class': classes})\n",
    "print '>head of df\\n', df.head()\n",
    "print '> tail of df\\n', df.tail()\n",
    "\n",
    "dftrain = df[0:trainlen]\n",
    "print '> train size = ', len(dftrain)\n",
    "\n",
    "dftest = df[trainlen:]\n",
    "print '> test size = ', len(dftest)"
   ]
  },
  {
   "cell_type": "code",
   "execution_count": 5,
   "metadata": {},
   "outputs": [
    {
     "name": "stdout",
     "output_type": "stream",
     "text": [
      "30\n",
      "[[ 0.59479578]\n",
      " [ 0.51034049]\n",
      " [ 0.59484594]\n",
      " [ 0.53299142]\n",
      " [ 0.55534694]\n",
      " [ 0.438915  ]\n",
      " [ 0.47943212]\n",
      " [ 0.45238784]\n",
      " [ 0.48164961]\n",
      " [ 0.45214355]\n",
      " [ 0.48528239]\n",
      " [ 0.50129501]\n",
      " [ 0.44306613]\n",
      " [ 0.54756489]\n",
      " [ 0.52663092]\n",
      " [ 0.47653536]\n",
      " [ 0.51942068]\n",
      " [ 0.44802111]\n",
      " [ 0.52818513]\n",
      " [ 0.5869519 ]\n",
      " [ 0.48537981]\n",
      " [ 0.54339679]\n",
      " [ 0.45431729]\n",
      " [ 0.55153231]\n",
      " [ 0.48052964]\n",
      " [ 0.46286471]\n",
      " [ 0.52994247]\n",
      " [ 0.4357417 ]\n",
      " [ 0.57026133]\n",
      " [ 0.43317847]]\n"
     ]
    }
   ],
   "source": [
    "# *********************************\n",
    "# Linear Regression\n",
    "# *********************************\n",
    "\n",
    "lnreg = linear_model.LinearRegression()\n",
    "\n",
    "lnreg.fit(X=dftrain[['Value']].values, y=dftrain[['Class']].values)\n",
    "\n",
    "pred = lnreg.predict(dftest[['Value']])\n",
    "print len(pred)\n",
    "print pred"
   ]
  },
  {
   "cell_type": "code",
   "execution_count": 6,
   "metadata": {},
   "outputs": [
    {
     "name": "stdout",
     "output_type": "stream",
     "text": [
      "pred_class = [1 1 1 1 1 0 0 0 0 0 0 1 0 1 1 0 1 0 1 1 0 1 0 1 0 0 1 0 1 0]\n",
      "test_class = [1 1 1 0 0 0 1 0 1 0 1 1 0 0 0 1 0 0 1 1 1 1 0 1 0 0 0 0 1 1]\n"
     ]
    }
   ],
   "source": [
    "pred_class = np.array([0 if x<0.5 else 1 for x in pred])\n",
    "print 'pred_class =', pred_class\n",
    "test_class =dftest['Class'].values\n",
    "print 'test_class =', test_class"
   ]
  },
  {
   "cell_type": "code",
   "execution_count": 15,
   "metadata": {},
   "outputs": [
    {
     "name": "stdout",
     "output_type": "stream",
     "text": [
      "[[9 6]\n",
      " [6 9]]\n"
     ]
    }
   ],
   "source": [
    "cmx = metrics.confusion_matrix(y_true=test_class, y_pred = pred_class)\n",
    "print cmx"
   ]
  },
  {
   "cell_type": "code",
   "execution_count": 8,
   "metadata": {},
   "outputs": [
    {
     "name": "stdout",
     "output_type": "stream",
     "text": [
      "0.706666666667\n"
     ]
    }
   ],
   "source": [
    "auc = metrics.roc_auc_score(y_true=test_class, y_score = pred)\n",
    "print auc"
   ]
  },
  {
   "cell_type": "code",
   "execution_count": 9,
   "metadata": {},
   "outputs": [
    {
     "name": "stdout",
     "output_type": "stream",
     "text": [
      "0.6\n"
     ]
    }
   ],
   "source": [
    "recall = metrics.recall_score(y_true=test_class, y_pred=pred_class)\n",
    "print recall"
   ]
  },
  {
   "cell_type": "code",
   "execution_count": 10,
   "metadata": {},
   "outputs": [
    {
     "name": "stdout",
     "output_type": "stream",
     "text": [
      "0.6\n"
     ]
    }
   ],
   "source": [
    "precision = metrics.precision_score(y_true=test_class, y_pred=pred_class)\n",
    "print precision"
   ]
  },
  {
   "cell_type": "code",
   "execution_count": 11,
   "metadata": {},
   "outputs": [
    {
     "name": "stdout",
     "output_type": "stream",
     "text": [
      "[ 0.          0.          0.06666667  0.06666667  0.13333333  0.13333333\n",
      "  0.26666667  0.26666667  0.4         0.4         0.46666667  0.46666667\n",
      "  1.          1.        ]\n",
      "[ 0.06666667  0.26666667  0.26666667  0.33333333  0.33333333  0.4         0.4\n",
      "  0.46666667  0.46666667  0.8         0.8         0.93333333  0.93333333\n",
      "  1.        ]\n",
      "[ 0.59484594  0.57026133  0.55534694  0.55153231  0.54756489  0.54339679\n",
      "  0.52994247  0.52818513  0.51942068  0.48164961  0.48052964  0.47653536\n",
      "  0.4357417   0.43317847]\n"
     ]
    }
   ],
   "source": [
    "# roc_curve:\n",
    "fpr, tpr, th = metrics.roc_curve(y_true=test_class, y_score=pred)\n",
    "print fpr\n",
    "print tpr\n",
    "print th"
   ]
  },
  {
   "cell_type": "code",
   "execution_count": 12,
   "metadata": {},
   "outputs": [
    {
     "name": "stdout",
     "output_type": "stream",
     "text": [
      "[ 0.5         0.48275862  0.5         0.51851852  0.53846154  0.56\n",
      "  0.58333333  0.60869565  0.63636364  0.66666667  0.65        0.63157895\n",
      "  0.66666667  0.64705882  0.625       0.6         0.57142857  0.53846154\n",
      "  0.58333333  0.63636364  0.6         0.66666667  0.75        0.71428571\n",
      "  0.83333333  0.8         1.          1.          1.          1.          1.        ]\n",
      "[ 1.          0.93333333  0.93333333  0.93333333  0.93333333  0.93333333\n",
      "  0.93333333  0.93333333  0.93333333  0.93333333  0.86666667  0.8         0.8\n",
      "  0.73333333  0.66666667  0.6         0.53333333  0.46666667  0.46666667\n",
      "  0.46666667  0.4         0.4         0.4         0.33333333  0.33333333\n",
      "  0.26666667  0.26666667  0.2         0.13333333  0.06666667  0.        ]\n",
      "[ 0.43317847  0.4357417   0.438915    0.44306613  0.44802111  0.45214355\n",
      "  0.45238784  0.45431729  0.46286471  0.47653536  0.47943212  0.48052964\n",
      "  0.48164961  0.48528239  0.48537981  0.50129501  0.51034049  0.51942068\n",
      "  0.52663092  0.52818513  0.52994247  0.53299142  0.54339679  0.54756489\n",
      "  0.55153231  0.55534694  0.57026133  0.5869519   0.59479578  0.59484594]\n",
      "30\n"
     ]
    }
   ],
   "source": [
    "# precision_recall_curve:\n",
    "precision, recall, th = metrics.precision_recall_curve(y_true=test_class, probas_pred=pred)\n",
    "print precision\n",
    "print recall\n",
    "print th\n",
    "print len(th)"
   ]
  },
  {
   "cell_type": "code",
   "execution_count": null,
   "metadata": {
    "collapsed": true
   },
   "outputs": [],
   "source": []
  },
  {
   "cell_type": "code",
   "execution_count": null,
   "metadata": {
    "collapsed": true
   },
   "outputs": [],
   "source": []
  },
  {
   "cell_type": "code",
   "execution_count": null,
   "metadata": {
    "collapsed": true
   },
   "outputs": [],
   "source": []
  },
  {
   "cell_type": "code",
   "execution_count": 63,
   "metadata": {},
   "outputs": [
    {
     "data": {
      "image/png": "[encoded data removed]",
      "text/plain": [
       "<matplotlib.figure.Figure at 0xcf586d8>"
      ]
     },
     "metadata": {},
     "output_type": "display_data"
    }
   ],
   "source": [
    "#-----------------------------\n",
    "# Define color maps\n",
    "#-----------------------------\n",
    "\n",
    "mycolormap = cm.jet\n",
    "# mycolormap = cm.coolwarm\n",
    "# mycolormap = cm.autumn\n",
    "# mycolormap = cm.hot\n",
    "# mycolormap = cm.Greys\n",
    "\n",
    "# create figure canvas\n",
    "fig = plt.figure(figsize=[12,12],facecolor='white')   # 16(inches) by 10(inches)\n",
    "# fig = plt.figure(facecolor='white')   # use default fig size\n",
    "\n",
    "ax1 = fig.add_subplot(211) \n",
    "ax1.plot(fpr,tpr)\n",
    "ax1.set_title('fpr/tpr')\n",
    "ax1.set_xlabel('fpr')\n",
    "ax1.set_ylabel('tpr')\n",
    "\n",
    "ax2 = fig.add_subplot(212) \n",
    "ax2.plot(recall, precision)\n",
    "ax2.set_title('precision/recall')\n",
    "ax2.set_ylabel('precison')\n",
    "ax2.set_xlabel('recall')\n",
    "\n",
    "plt.show()"
   ]
  },
  {
   "cell_type": "code",
   "execution_count": 56,
   "metadata": {},
   "outputs": [
    {
     "name": "stdout",
     "output_type": "stream",
     "text": [
      "30\n",
      "[1 1 1 1 1 0 1 0 1 1 1 1 1 1 1 1 1 1 1 1 1 1 1 1 0 1 1 1 1 1]\n"
     ]
    }
   ],
   "source": [
    "# *********************************\n",
    "# Logistic Regression\n",
    "# *********************************\n",
    "\n",
    "logreg = linear_model.LogisticRegression()\n",
    "\n",
    "logreg.fit(X=dftrain[['Value']].values, y=dftrain['Class'].values)\n",
    "\n",
    "pred_log = logreg.predict(dftest[['Value']])\n",
    "print len(pred_log)\n",
    "print pred_log"
   ]
  },
  {
   "cell_type": "code",
   "execution_count": 57,
   "metadata": {},
   "outputs": [
    {
     "name": "stdout",
     "output_type": "stream",
     "text": [
      "[0 0 0 0 0 0 0 0 0 1 1 0 1 1 1 0 1 1 1 0 0 1 0 0 1 1 1 0 1 1]\n",
      "[1 1 1 1 1 0 1 0 1 1 1 1 1 1 1 1 1 1 1 1 1 1 1 1 0 1 1 1 1 1]\n"
     ]
    }
   ],
   "source": [
    "print dftest['Class'].values\n",
    "print pred_log"
   ]
  },
  {
   "cell_type": "code",
   "execution_count": 58,
   "metadata": {},
   "outputs": [
    {
     "name": "stdout",
     "output_type": "stream",
     "text": [
      "auc = 0.6\n",
      "recall = 1.0\n",
      "precision = 0.555555555556\n"
     ]
    }
   ],
   "source": [
    "auc = metrics.roc_auc_score(y_true=test_class, y_score = pred_log)\n",
    "print 'auc =',auc\n",
    "\n",
    "recall = metrics.recall_score(y_true=test_class, y_pred=pred_log)\n",
    "print 'recall =',recall\n",
    "\n",
    "precision = metrics.precision_score(y_true=test_class, y_pred=pred_log)\n",
    "print 'precision =',precision"
   ]
  },
  {
   "cell_type": "code",
   "execution_count": 59,
   "metadata": {},
   "outputs": [
    {
     "name": "stdout",
     "output_type": "stream",
     "text": [
      "[ 0.   0.8  1. ]\n",
      "[ 0.  1.  1.]\n",
      "[2 1 0]\n"
     ]
    }
   ],
   "source": [
    "# roc_curve:\n",
    "fpr, tpr, th = metrics.roc_curve(y_true=test_class, y_score=pred_log)\n",
    "print fpr\n",
    "print tpr\n",
    "print th"
   ]
  },
  {
   "cell_type": "code",
   "execution_count": 60,
   "metadata": {},
   "outputs": [
    {
     "name": "stdout",
     "output_type": "stream",
     "text": [
      "[ 0.55555556  1.        ]\n",
      "[ 1.  0.]\n",
      "[1]\n",
      "1\n"
     ]
    }
   ],
   "source": [
    "# precision_recall_curve:\n",
    "precision, recall, th = metrics.precision_recall_curve(y_true=test_class, probas_pred=pred_log)\n",
    "print precision\n",
    "print recall\n",
    "print th\n",
    "print len(th)"
   ]
  },
  {
   "cell_type": "code",
   "execution_count": 61,
   "metadata": {},
   "outputs": [
    {
     "name": "stdout",
     "output_type": "stream",
     "text": [
      "[1 1 1 0 0 0 1 0 1 0 1 1 0 0 0 1 0 0 1 1 1 1 0 1 0 0 0 0 1 1]\n",
      "[1 1 1 1 1 0 1 0 1 1 1 1 1 1 1 1 1 1 1 1 1 1 1 1 0 1 1 1 1 1]\n"
     ]
    }
   ],
   "source": [
    "print test_class\n",
    "print pred_log\n"
   ]
  },
  {
   "cell_type": "code",
   "execution_count": null,
   "metadata": {
    "collapsed": true
   },
   "outputs": [],
   "source": []
  },
  {
   "cell_type": "code",
   "execution_count": null,
   "metadata": {
    "collapsed": true
   },
   "outputs": [],
   "source": []
  }
 ],
 "metadata": {
  "kernelspec": {
   "display_name": "Python 3",
   "language": "python",
   "name": "python3"
  },
  "language_info": {
   "codemirror_mode": {
    "name": "ipython",
    "version": 3
   },
   "file_extension": ".py",
   "mimetype": "text/x-python",
   "name": "python",
   "nbconvert_exporter": "python",
   "pygments_lexer": "ipython3",
   "version": "3.6.4"
  }
 },
 "nbformat": 4,
 "nbformat_minor": 2
}
