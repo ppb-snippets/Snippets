{
 "cells": [
  {
   "cell_type": "code",
   "execution_count": 1,
   "metadata": {
    "collapsed": false
   },
   "outputs": [],
   "source": [
    "import datetime as dt\n",
    "from datetime import datetime\n",
    "from datetime import time\n",
    "from datetime import date\n",
    "import time as tm\n",
    "import numpy as np\n",
    "import pandas as pd\n",
    "import matplotlib.pyplot as plt\n",
    "\n",
    "from IPython.display import Image  # 在cell中显示图片"
   ]
  },
  {
   "cell_type": "code",
   "execution_count": 2,
   "metadata": {
    "collapsed": false
   },
   "outputs": [
    {
     "name": "stdout",
     "output_type": "stream",
     "text": [
      "dfSrc: len= 200\n",
      "top 5 of dfSrc:\n",
      "         DATE  TIME            TIMESTAMP    OPEN    HIGH     LOW   CLOSE  \\\n",
      "0  01/03/2011  1110  1294024200000012345  329.54  329.57  329.42  329.50   \n",
      "1  01/03/2011  1111  1294024260000012345  329.50  329.55  329.26  329.30   \n",
      "2  01/03/2011  1112  1294024320000012345  329.31  329.47  329.29  329.31   \n",
      "3  01/03/2011  1113  1294024380000012345  329.31  329.48  329.27  329.34   \n",
      "4  01/03/2011  1114  1294024440000012345  329.35  329.50  329.32  329.43   \n",
      "\n",
      "   VOLUME  \n",
      "0   45706  \n",
      "1   42324  \n",
      "2   46865  \n",
      "3   22190  \n",
      "4   23535  \n"
     ]
    }
   ],
   "source": [
    "# 读入测试数据\n",
    "dfAAPL = pd.read_csv(\"quote_nasdaq_aapl_m1_2011_onetick_ntc.csv\")\n",
    "\n",
    "# 取测试数据的前100行作为实验数据\n",
    "dfSrc = dfAAPL[100:300]     # df11=实验源数据\n",
    "dfSrc = dfSrc.set_index(np.arange(0,len(dfSrc),1,dtype=np.int64))\n",
    "print 'dfSrc: len=',len(dfSrc)\n",
    "print 'top 5 of dfSrc:\\n',dfSrc.head()"
   ]
  },
  {
   "cell_type": "code",
   "execution_count": 3,
   "metadata": {
    "collapsed": false,
    "scrolled": true
   },
   "outputs": [
    {
     "name": "stdout",
     "output_type": "stream",
     "text": [
      "top 5 of KyeH:\n",
      "0    11\n",
      "1    11\n",
      "2    11\n",
      "3    11\n",
      "4    11\n",
      "Name: KeyH, dtype: int64 \n",
      "\n",
      "top 5 of KyeP:\n",
      "0     P\n",
      "1     P\n",
      "2    P-\n",
      "3    P-\n",
      "4    P+\n",
      "Name: KeyP, dtype: object \n",
      "\n",
      "top 5 of KyeV:\n",
      "0    V+\n",
      "1    V+\n",
      "2    V+\n",
      "3    V+\n",
      "4    V+\n",
      "Name: KeyV, dtype: object \n",
      "\n"
     ]
    }
   ],
   "source": [
    "#---------------------------\n",
    "# <Step-1>生成3个key column\n",
    "\n",
    "# Key by Hours\n",
    "seKeyH = pd.Series(np.int64(dfSrc['TIME']/100))  # Buckets created by Hours\n",
    "seKeyH.name = 'KeyH'\n",
    "print 'top 5 of KyeH:\\n',seKeyH.head(),'\\n'\n",
    "\n",
    "# Key by OPEN/CLOSE\n",
    "seKeyP = dfSrc['CLOSE']/dfSrc['OPEN']  # X=CLOSE/OPEN\n",
    "seKeyP[seKeyP >= 1.0002] = 3\n",
    "seKeyP[seKeyP <1.0 ] = 2\n",
    "seKeyP[seKeyP < 2] = 1\n",
    "seKeyP[seKeyP == 3] = 'P+' # P+: 1.0002<=X\n",
    "seKeyP[seKeyP == 2] = 'P'  # P:  1.0=<X<=1.0002\n",
    "seKeyP[seKeyP == 1] = 'P-' # P-: X<1.0\n",
    "seKeyP.name = 'KeyP'\n",
    "print 'top 5 of KyeP:\\n',seKeyP.head(),'\\n'\n",
    "\n",
    "# key by Volume\n",
    "seKeyV = dfSrc['VOLUME'] - np.int64(dfSrc['VOLUME'].mean())  # X = Vol - Vol.mean\n",
    "seKeyV[seKeyV >= 0] = 'V+'  # V+: X>=0\n",
    "seKeyV[seKeyV < 0] = 'V-'   # V-: X<0\n",
    "seKeyV.name='KeyV'\n",
    "print 'top 5 of KyeV:\\n',seKeyV.head(),'\\n'\n"
   ]
  },
  {
   "cell_type": "code",
   "execution_count": 4,
   "metadata": {
    "collapsed": false,
    "scrolled": true
   },
   "outputs": [
    {
     "name": "stdout",
     "output_type": "stream",
     "text": [
      "top 5 of dfTest:\n",
      "         DATE  TIME            TIMESTAMP    OPEN    HIGH     LOW   CLOSE  \\\n",
      "0  01/03/2011  1110  1294024200000012345  329.54  329.57  329.42  329.50   \n",
      "1  01/03/2011  1111  1294024260000012345  329.50  329.55  329.26  329.30   \n",
      "2  01/03/2011  1112  1294024320000012345  329.31  329.47  329.29  329.31   \n",
      "3  01/03/2011  1113  1294024380000012345  329.31  329.48  329.27  329.34   \n",
      "4  01/03/2011  1114  1294024440000012345  329.35  329.50  329.32  329.43   \n",
      "\n",
      "   VOLUME  KeyH KeyP KeyV  \n",
      "0   45706    11    P   V+  \n",
      "1   42324    11    P   V+  \n",
      "2   46865    11   P-   V+  \n",
      "3   22190    11   P-   V+  \n",
      "4   23535    11   P+   V+  \n"
     ]
    }
   ],
   "source": [
    "#-----------------------------------------\n",
    "# <Step-2> 添加生成的3个Key columns到dfTest\n",
    "\n",
    "dfTest = dfSrc.join(seKeyH).join(seKeyP).join(seKeyV)\n",
    "print 'top 5 of dfTest:\\n',dfTest.head()"
   ]
  },
  {
   "cell_type": "code",
   "execution_count": 5,
   "metadata": {
    "collapsed": false
   },
   "outputs": [
    {
     "name": "stdout",
     "output_type": "stream",
     "text": [
      "type(gpTest) =  <class 'pandas.core.groupby.DataFrameGroupBy'>\n"
     ]
    }
   ],
   "source": [
    "#-----------------------------------------\n",
    "# <Step-3> \n",
    "# 用上面生成的3个Keys对dfTest进行GroupBy操作\n",
    "# 生成dfTest的groupby对象gpTest\n",
    "\n",
    "gpTest = dfTest.groupby(['KeyH','KeyP','KeyV'])\n",
    "print 'type(gpTest) = ',type(gpTest)"
   ]
  },
  {
   "cell_type": "code",
   "execution_count": 6,
   "metadata": {
    "collapsed": false,
    "scrolled": false
   },
   "outputs": [
    {
     "name": "stdout",
     "output_type": "stream",
     "text": [
      "                CLOSE\n",
      "KeyH KeyP KeyV       \n",
      "11   P    V+       15\n",
      "          V-        5\n",
      "     P+   V+       12\n",
      "          V-        3\n",
      "     P-   V+       10\n",
      "          V-        5\n",
      "12   P    V+        7\n",
      "          V-       19\n",
      "     P+   V+        3\n",
      "          V-        4\n",
      "     P-   V+        4\n",
      "          V-       23\n",
      "13   P    V+        3\n",
      "          V-       19\n",
      "     P+   V-        6\n",
      "     P-   V+        6\n",
      "          V-       26\n",
      "14   P    V+        8\n",
      "          V-        9\n",
      "     P+   V+        4\n",
      "          V-        1\n",
      "     P-   V+        3\n",
      "          V-        5\n"
     ]
    }
   ],
   "source": [
    "#---------------\n",
    "# 实验-1\n",
    "#---------------\n",
    "# CLOSE.count() by stacked keys: keyH,KeyP,KeyV\n",
    "\n",
    "dfCloseA = pd.DataFrame(gpTest.CLOSE.count())   #输出count of CLOSE\n",
    "print dfCloseA"
   ]
  },
  {
   "cell_type": "code",
   "execution_count": 7,
   "metadata": {
    "collapsed": true
   },
   "outputs": [],
   "source": [
    "# 绘图输出 dfCloseA\n",
    "dfCloseA.plot(kind='bar',stacked=True)\n",
    "plt.show()"
   ]
  },
  {
   "cell_type": "code",
   "execution_count": 8,
   "metadata": {
    "collapsed": false
   },
   "outputs": [
    {
     "data": {
      "image/png": "[encoded data removed]",
      "text/plain": [
       "<IPython.core.display.Image object>"
      ]
     },
     "execution_count": 8,
     "metadata": {},
     "output_type": "execute_result"
    }
   ],
   "source": [
    "Image(filename='figure_closea.png')"
   ]
  },
  {
   "cell_type": "code",
   "execution_count": 9,
   "metadata": {
    "collapsed": false
   },
   "outputs": [
    {
     "name": "stdout",
     "output_type": "stream",
     "text": [
      "KeyP        P  P+  P-\n",
      "KeyH KeyV            \n",
      "11   V+    15  12  10\n",
      "     V-     5   3   5\n",
      "12   V+     7   3   4\n",
      "     V-    19   4  23\n",
      "13   V+     3 NaN   6\n",
      "     V-    19   6  26\n",
      "14   V+     8   4   3\n",
      "     V-     9   1   5\n"
     ]
    }
   ],
   "source": [
    "#---------------\n",
    "# 实验-2\n",
    "#---------------\n",
    "# CLOSE.count() by stacked keys: KeyH,KeyV\n",
    "# keyV is unstacked (row -> col)\n",
    "\n",
    "dfCloseB = gpTest.CLOSE.count().unstack(['KeyP'])  # unstack keyP\n",
    "print dfCloseB"
   ]
  },
  {
   "cell_type": "code",
   "execution_count": 26,
   "metadata": {
    "collapsed": true
   },
   "outputs": [],
   "source": [
    "# 绘图输出 dfCloseB\n",
    "dfCloseB.plot(kind='bar',stacked=True)\n",
    "# dfCloseB.plot(kind='bar',stacked=False)\n",
    "\n",
    "plt.show()"
   ]
  },
  {
   "cell_type": "code",
   "execution_count": 11,
   "metadata": {
    "collapsed": false
   },
   "outputs": [
    {
     "data": {
      "image/png": "[encoded data removed]",
      "text/plain": [
       "<IPython.core.display.Image object>"
      ]
     },
     "execution_count": 11,
     "metadata": {},
     "output_type": "execute_result"
    }
   ],
   "source": [
    "Image(filename='figure_closeb.png')"
   ]
  },
  {
   "cell_type": "code",
   "execution_count": 12,
   "metadata": {
    "collapsed": false
   },
   "outputs": [
    {
     "name": "stdout",
     "output_type": "stream",
     "text": [
      "KeyP   P      P+     P-    \n",
      "KeyV  V+  V-  V+ V-  V+  V-\n",
      "KeyH                       \n",
      "11    15   5  12  3  10   5\n",
      "12     7  19   3  4   4  23\n",
      "13     3  19 NaN  6   6  26\n",
      "14     8   9   4  1   3   5\n"
     ]
    }
   ],
   "source": [
    "#---------------\n",
    "# 实验-3\n",
    "#---------------\n",
    "# CLOSE.count() ONLY by key: KeyH\n",
    "# keyP/keyV are unstacked (rows -> cols)\n",
    "\n",
    "dfCloseC = gpTest.CLOSE.count().unstack(['KeyP','KeyV'])  # unstack KeyP/KeyV\n",
    "print dfCloseC"
   ]
  },
  {
   "cell_type": "code",
   "execution_count": 13,
   "metadata": {
    "collapsed": false
   },
   "outputs": [],
   "source": [
    "# 绘图输出 dfCloseC\n",
    "dfCloseC.plot(kind='bar',stacked=True)\n",
    "plt.show()"
   ]
  },
  {
   "cell_type": "code",
   "execution_count": 14,
   "metadata": {
    "collapsed": false
   },
   "outputs": [
    {
     "data": {
      "image/png": "[encoded data removed]",
      "text/plain": [
       "<IPython.core.display.Image object>"
      ]
     },
     "execution_count": 14,
     "metadata": {},
     "output_type": "execute_result"
    }
   ],
   "source": [
    "Image(filename='figure_closec.png')"
   ]
  },
  {
   "cell_type": "code",
   "execution_count": 15,
   "metadata": {
    "collapsed": false
   },
   "outputs": [],
   "source": [
    "#---------------\n",
    "# 实验-4\n",
    "#---------------\n",
    "# 只用KeyH/KeyP两组key对dfTest进行groupby\n",
    "\n",
    "gpTest2 = dfTest.groupby(['KeyH','KeyP'])"
   ]
  },
  {
   "cell_type": "code",
   "execution_count": 16,
   "metadata": {
    "collapsed": false
   },
   "outputs": [
    {
     "name": "stdout",
     "output_type": "stream",
     "text": [
      "           CLOSE\n",
      "KeyH KeyP       \n",
      "11   P        20\n",
      "     P+       15\n",
      "     P-       15\n",
      "12   P        26\n",
      "     P+        7\n",
      "     P-       27\n",
      "13   P        22\n",
      "     P+        6\n",
      "     P-       32\n",
      "14   P        17\n",
      "     P+        5\n",
      "     P-        8\n"
     ]
    }
   ],
   "source": [
    "#---------------\n",
    "# 实验-4.1\n",
    "#---------------\n",
    "# 直接显示\n",
    "\n",
    "dfCloseA2 = pd.DataFrame(gpTest2.CLOSE.count())   #输出count of CLOSE\n",
    "print dfCloseA2"
   ]
  },
  {
   "cell_type": "code",
   "execution_count": 17,
   "metadata": {
    "collapsed": true
   },
   "outputs": [],
   "source": [
    "dfCloseA2.plot(kind='bar',stacked=True)\n",
    "plt.show()"
   ]
  },
  {
   "cell_type": "code",
   "execution_count": 18,
   "metadata": {
    "collapsed": false
   },
   "outputs": [
    {
     "data": {
      "image/png": "[encoded data removed]",
      "text/plain": [
       "<IPython.core.display.Image object>"
      ]
     },
     "execution_count": 18,
     "metadata": {},
     "output_type": "execute_result"
    }
   ],
   "source": [
    "Image(filename='figure_closea2.png')"
   ]
  },
  {
   "cell_type": "code",
   "execution_count": 19,
   "metadata": {
    "collapsed": false
   },
   "outputs": [
    {
     "name": "stdout",
     "output_type": "stream",
     "text": [
      "KeyP   P  P+  P-\n",
      "KeyH            \n",
      "11    20  15  15\n",
      "12    26   7  27\n",
      "13    22   6  32\n",
      "14    17   5   8\n"
     ]
    }
   ],
   "source": [
    "#---------------\n",
    "# 实验-4.2\n",
    "#---------------\n",
    "# unstack KeyP\n",
    "\n",
    "dfCloseC2 = gpTest2.CLOSE.count().unstack(['KeyP'])  # unstack KeyP\n",
    "print dfCloseC2"
   ]
  },
  {
   "cell_type": "code",
   "execution_count": 20,
   "metadata": {
    "collapsed": true
   },
   "outputs": [],
   "source": [
    "dfCloseC2.plot(kind='bar',stacked=True)\n",
    "plt.show()"
   ]
  },
  {
   "cell_type": "code",
   "execution_count": 21,
   "metadata": {
    "collapsed": false
   },
   "outputs": [
    {
     "data": {
      "image/png": "[encoded data removed]",
      "text/plain": [
       "<IPython.core.display.Image object>"
      ]
     },
     "execution_count": 21,
     "metadata": {},
     "output_type": "execute_result"
    }
   ],
   "source": [
    "Image(filename='figure_closec2.png')"
   ]
  },
  {
   "cell_type": "code",
   "execution_count": 22,
   "metadata": {
    "collapsed": false
   },
   "outputs": [
    {
     "name": "stdout",
     "output_type": "stream",
     "text": [
      "dfCloseC:\n",
      "KeyP   P      P+     P-    \n",
      "KeyV  V+  V-  V+ V-  V+  V-\n",
      "KeyH                       \n",
      "11    15   5  12  3  10   5\n",
      "12     7  19   3  4   4  23\n",
      "13     3  19 NaN  6   6  26\n",
      "14     8   9   4  1   3   5\n",
      "\n",
      "[row=2,col=1] by iloc[1,0] =  7.0\n",
      "[row=2,col=1] by ix[12,0] =  7.0\n"
     ]
    }
   ],
   "source": [
    "#---------------\n",
    "# 实验-5\n",
    "#---------------\n",
    "# 计算输出结果DF的寻址(多重index)\n",
    "\n",
    "dfCloseC = gpTest.CLOSE.count().unstack(['KeyP','KeyV'])  # unstack KeyP/KeyV\n",
    "print 'dfCloseC:\\n',dfCloseC\n",
    "print\n",
    "\n",
    "#Row=2,Col=1\n",
    "print '[row=2,col=1] by iloc[1,0] = ',dfCloseC.iloc[1,0]  \n",
    "print '[row=2,col=1] by ix[12,0] = ',dfCloseC.ix[12,0]"
   ]
  },
  {
   "cell_type": "code",
   "execution_count": 23,
   "metadata": {
    "collapsed": false
   },
   "outputs": [
    {
     "name": "stdout",
     "output_type": "stream",
     "text": [
      "INPUT = dfCloseC:\n",
      "KeyP   P      P+     P-    \n",
      "KeyV  V+  V-  V+ V-  V+  V-\n",
      "KeyH                       \n",
      "11    15   5  12  3  10   5\n",
      "12     7  19   3  4   4  23\n",
      "13     3  19 NaN  6   6  26\n",
      "14     8   9   4  1   3   5\n",
      "\n",
      "OUTPUT1 = dfCloseX:\n",
      "KeyP   P      P+     P-    \n",
      "KeyV  V+  V-  V+ V-  V+  V-\n",
      "KeyH                       \n",
      "11    15   5  12  3  10   5\n",
      "12     7  19   3  4   4  23\n",
      "13     3  19   0  6   6  26\n",
      "14     8   9   4  1   3   5\n",
      "\n",
      "OUTPUT2 = dfCloseX:\n",
      "KeyP   P      P+     P-    \n",
      "KeyV  V+  V-  V+ V-  V+  V-\n",
      "KeyH                       \n",
      "11    15   5  12  3  10   5\n",
      "12     7  19   3  4   4  23\n",
      "13     3  19   0  6   6  26\n",
      "14     8   9   4  1   3   5\n",
      "\n"
     ]
    }
   ],
   "source": [
    "#---------------\n",
    "# 实验-6\n",
    "#---------------\n",
    "# Fill NaN\n",
    "\n",
    "print 'INPUT = dfCloseC:\\n',dfCloseC    # dfCloseC 做为测试DF\n",
    "print\n",
    "\n",
    "# 方法-1: fillna并赋值\n",
    "dfCloseX = dfCloseC.copy()              # dfCloseX=dfCloseC的副本，用于测试\n",
    "dfCloseX = dfCloseX.fillna(value=0)\n",
    "print 'OUTPUT1 = dfCloseX:\\n',dfCloseX\n",
    "print\n",
    "\n",
    "# 方法-2: fillna并修改原DF\n",
    "dfCloseX = dfCloseC.copy()              # dfCloseX=dfCloseC的副本，用于测试\n",
    "dfCloseX.fillna(value=0,inplace=True)\n",
    "print 'OUTPUT2 = dfCloseX:\\n',dfCloseX\n",
    "print"
   ]
  },
  {
   "cell_type": "code",
   "execution_count": 24,
   "metadata": {
    "collapsed": false
   },
   "outputs": [
    {
     "name": "stdout",
     "output_type": "stream",
     "text": [
      "Before sorting:\n",
      "                CLOSE\n",
      "KeyH KeyP KeyV       \n",
      "11   P    V+       15\n",
      "          V-        5\n",
      "     P+   V+       12\n",
      "          V-        3\n",
      "     P-   V+       10\n",
      "          V-        5\n",
      "12   P    V+        7\n",
      "          V-       19\n",
      "     P+   V+        3\n",
      "          V-        4\n",
      "     P-   V+        4\n",
      "          V-       23\n",
      "13   P    V+        3\n",
      "          V-       19\n",
      "     P+   V-        6\n",
      "     P-   V+        6\n",
      "          V-       26\n",
      "14   P    V+        8\n",
      "          V-        9\n",
      "     P+   V+        4\n",
      "          V-        1\n",
      "     P-   V+        3\n",
      "          V-        5\n",
      "unstacked:\n",
      "     CLOSE                   \n",
      "KeyP     P      P+     P-    \n",
      "KeyV    V+  V-  V+ V-  V+  V-\n",
      "KeyH                         \n",
      "11      15   5  12  3  10   5\n",
      "12       7  19   3  4   4  23\n",
      "13       3  19 NaN  6   6  26\n",
      "14       8   9   4  1   3   5\n",
      "\n",
      "After sorting:\n",
      "                CLOSE\n",
      "KeyH KeyP KeyV       \n",
      "14   P-   V-        5\n",
      "          V+        3\n",
      "13   P-   V-       26\n",
      "          V+        6\n",
      "12   P-   V-       23\n",
      "          V+        4\n",
      "11   P-   V-        5\n",
      "          V+       10\n",
      "14   P+   V-        1\n",
      "          V+        4\n",
      "13   P+   V-        6\n",
      "12   P+   V-        4\n",
      "          V+        3\n",
      "11   P+   V-        3\n",
      "          V+       12\n",
      "14   P    V-        9\n",
      "          V+        8\n",
      "13   P    V-       19\n",
      "          V+        3\n",
      "12   P    V-       19\n",
      "          V+        7\n",
      "11   P    V-        5\n",
      "          V+       15\n",
      "unstacked:\n",
      "     CLOSE                   \n",
      "KeyP    P-     P+       P    \n",
      "KeyV    V-  V+ V-  V+  V-  V+\n",
      "KeyH                         \n",
      "11       5  10  3  12   5  15\n",
      "12      23   4  4   3  19   7\n",
      "13      26   6  6 NaN  19   3\n",
      "14       5   3  1   4   9   8\n"
     ]
    }
   ],
   "source": [
    "#---------------\n",
    "# 实验-7\n",
    "#---------------\n",
    "# 多重索引的排序\n",
    "\n",
    "dfCloseA2 = dfCloseA.copy()\n",
    "print 'Before sorting:\\n',dfCloseA2\n",
    "dfCloseA2 = dfCloseA2.unstack(['KeyP','KeyV'])\n",
    "print 'unstacked:\\n',dfCloseA2\n",
    "print\n",
    "\n",
    "dfCloseA2 = dfCloseA.copy()\n",
    "dfCloseA2.sortlevel(level=1,ascending=False,sort_remaining=False,inplace=True) #按KeyP降序\n",
    "print 'After sorting:\\n',dfCloseA2\n",
    "dfCloseA2 = dfCloseA2.unstack(['KeyP','KeyV'])\n",
    "print 'unstacked:\\n',dfCloseA2"
   ]
  },
  {
   "cell_type": "code",
   "execution_count": null,
   "metadata": {
    "collapsed": true
   },
   "outputs": [],
   "source": []
  }
 ],
 "metadata": {
  "kernelspec": {
   "display_name": "Python 2",
   "language": "python",
   "name": "python2"
  },
  "language_info": {
   "codemirror_mode": {
    "name": "ipython",
    "version": 2
   },
   "file_extension": ".py",
   "mimetype": "text/x-python",
   "name": "python",
   "nbconvert_exporter": "python",
   "pygments_lexer": "ipython2",
   "version": "2.7.13"
  }
 },
 "nbformat": 4,
 "nbformat_minor": 0
}
