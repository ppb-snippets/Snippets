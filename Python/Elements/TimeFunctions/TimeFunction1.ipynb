{
 "cells": [
  {
   "cell_type": "code",
   "execution_count": 1,
   "metadata": {
    "collapsed": true
   },
   "outputs": [],
   "source": [
    "# DateTime Functions Part-1 \n",
    "# V1.0 / 2015-08-23\n",
    "\n",
    "#-----------------------------------------------------------------\n",
    "# 导入所需的库模块\n",
    "#-----------------------------------------------------------------\n",
    "# -*- coding: utf-8 -*- #设置文字编码为UTF-8，以便支持中文打印输出\n",
    "import datetime            #导入datetime库\n",
    "import time                #导入time库\n",
    "import calendar            #导入calendar库\n",
    "import pytz                #导入pytz库 (python timezone)\n"
   ]
  },
  {
   "cell_type": "code",
   "execution_count": 2,
   "metadata": {},
   "outputs": [
    {
     "name": "stdout",
     "output_type": "stream",
     "text": [
      "[ 创建 timezone 对象 ]\n",
      "\n",
      "tz_utc = UTC\n",
      "tz_syd = Australia/Sydney\n",
      "tz_hk = Asia/Hong_Kong\n",
      "tz_sh = Asia/Shanghai\n",
      "tz_tokyo = Asia/Tokyo\n",
      "tz_seoul = Asia/Seoul\n",
      "tz_sig = Asia/Singapore\n",
      "tz_nyc = America/New_York\n"
     ]
    }
   ],
   "source": [
    "#-----------------------------------------------------------------\n",
    "# 创建timezone对象\n",
    "#-----------------------------------------------------------------\n",
    "print '[ 创建 timezone 对象 ]\\n'\n",
    "\n",
    "# 创建timezone对象\n",
    "#\n",
    "tz_utc = pytz.timezone('UTC')                      #创建UTC时区：tz_utc\n",
    "tz_syd = pytz.timezone('Australia/Sydney')         #创建<悉尼>时区：tz_syd\n",
    "tz_hk = pytz.timezone('Asia/Hong_Kong')            #创建<香港>时区：tz_hk\n",
    "tz_sh = pytz.timezone('Asia/Shanghai')             #创建<上海>时区：tz_sh\n",
    "tz_tokyo = pytz.timezone('Asia/Tokyo')             #创建<东京>时区：tz_tokyo\n",
    "tz_seoul = pytz.timezone('Asia/Seoul')             #创建<首尔>时区：tz_seoul\n",
    "tz_sig = pytz.timezone('Asia/Singapore')           #创建<新加坡>时区：tz_sig\n",
    "tz_nyc = pytz.timezone('America/New_York')         #创建<纽约>时区：tz_nyc\n",
    "\n",
    "#DEBUG：打印检查所创建的时区对象\n",
    "#\n",
    "print 'tz_utc =',tz_utc         #DEBUG_PRINT\n",
    "print 'tz_syd =',tz_syd         #DEBUG_PRINT\n",
    "print 'tz_hk =',tz_hk           #DEBUG_PRINT\n",
    "print 'tz_sh =',tz_sh           #DEBUG_PRINT\n",
    "print 'tz_tokyo =',tz_tokyo     #DEBUG_PRINT\n",
    "print 'tz_seoul =',tz_seoul     #DEBUG_PRINT\n",
    "print 'tz_sig =',tz_sig         #DEBUG_PRINT\n",
    "print 'tz_nyc =',tz_nyc         #DEBUG_PRINT"
   ]
  },
  {
   "cell_type": "code",
   "execution_count": 3,
   "metadata": {},
   "outputs": [
    {
     "name": "stdout",
     "output_type": "stream",
     "text": [
      "[ 创建 datetime 对象 ]\n",
      "\n",
      "tt =  1970-01-01 12:00:01.123000 | timezone =  None\n"
     ]
    }
   ],
   "source": [
    "#-----------------------------------------------------------------\n",
    "# 创建datetime对象 (无时区属性)\n",
    "#-----------------------------------------------------------------\n",
    "print '[ 创建 datetime 对象 ]\\n'\n",
    "\n",
    "year = 1970\n",
    "month = 1\n",
    "day = 1\n",
    "hour = 12\n",
    "minute = 0\n",
    "second = 1\n",
    "microsecond = 123000   # 123000us = 123ms = 0.123s\n",
    "tt = datetime.datetime(year,month,day,hour,minute,second,microsecond)    # tt = 无时区属性时间对象\n",
    "print 'tt = ',tt,'| timezone = ',tt.tzinfo"
   ]
  },
  {
   "cell_type": "code",
   "execution_count": 4,
   "metadata": {
    "scrolled": true
   },
   "outputs": [
    {
     "name": "stdout",
     "output_type": "stream",
     "text": [
      "[ From <datetime对象> To <timestamp变量> ]\n",
      "\n",
      "From: ttsyd =  1970-01-01 12:00:01.123000+10:00\n",
      "  To: ts = 43201.123000   (Local timestamp)\n",
      "  To: tsutc = 7201.123000   (NTC timestamp)\n"
     ]
    }
   ],
   "source": [
    "#-----------------------------------------------------------------\n",
    "# datetime对象 -> timestamp变量\n",
    "#-----------------------------------------------------------------\n",
    "print '[ From <datetime对象> To <timestamp变量> ]\\n'\n",
    "\n",
    "ttsyd = tz_syd.localize(tt)              #由tt生成悉尼时区的datetime对象ttsyd\n",
    "print \"From: ttsyd = \",ttsyd\n",
    "\n",
    "# 获取本地时间TimeStamp (不进行时区变换)\n",
    "ts = calendar.timegm(ttsyd.timetuple()) + (ttsyd.microsecond*1e-6)         # ts = 本地时区的timestamp，不进行时区变换\n",
    "print \"  To: ts = %.6f\" % ts,\"  (Local timestamp)\"                         # ts = tts的timestamp, 精确到微秒us(1e-6(s))\n",
    "\n",
    "# 获取UTC TimeStamp (进行时区变换)\n",
    "tsutc = calendar.timegm(ttsyd.utctimetuple()) + (ttsyd.microsecond*1e-6)   # tsutc = 进行时区变换，得到此刻UTC时区的timestamp\n",
    "print \"  To: tsutc = %.6f\" % tsutc,\"  (NTC timestamp)\""
   ]
  },
  {
   "cell_type": "code",
   "execution_count": 5,
   "metadata": {},
   "outputs": [
    {
     "name": "stdout",
     "output_type": "stream",
     "text": [
      "[ From <timestamp变量> To <datetime对象> ]\n",
      "\n",
      "From: ts =  43201.123000\n",
      "  To: tt2 =  1970-01-01 12:00:01.123000\n"
     ]
    }
   ],
   "source": [
    "#-----------------------------------------------------------------\n",
    "# timestamp变量 -> datetime对象 \n",
    "#-----------------------------------------------------------------\n",
    "print '[ From <timestamp变量> To <datetime对象> ]\\n'\n",
    "\n",
    "tt2 = datetime.datetime.utcfromtimestamp(ts)     # 由timestamp变量ts，生成datetime对象tt2(无时区属性)\n",
    "print 'From: ts =  %.6f' % ts\n",
    "print '  To: tt2 = ',tt2"
   ]
  },
  {
   "cell_type": "code",
   "execution_count": 6,
   "metadata": {},
   "outputs": [
    {
     "name": "stdout",
     "output_type": "stream",
     "text": [
      "[ 生成带时区属性的datetime对象 ]\n",
      "\n",
      "tt_syd =  1970-01-01 12:00:01.123000+10:00 | timezone =  Australia/Sydney\n",
      "tt_hk =   1970-01-01 12:00:01.123000+08:00 | timezone =  Asia/Hong_Kong\n"
     ]
    }
   ],
   "source": [
    "#-----------------------------------------------------------------\n",
    "# 生成带时区属性的datetime对象\n",
    "#-----------------------------------------------------------------\n",
    "print '[ 生成带时区属性的datetime对象 ]\\n'\n",
    "\n",
    "# 例子-1：sydney的datetime对象\n",
    "#\n",
    "tt_syd = tz_syd.localize(tt)           # 由datetime对象tt，生成新的datetime对象tt_syd(sydney时区)\n",
    "print 'tt_syd = ',tt_syd,'| timezone = ',tt_syd.tzinfo\n",
    "\n",
    "# 例子-2：hongkong的datetime对象\n",
    "#\n",
    "tt_hk = tz_hk.localize(tt)             # 又datetime对象tt，生成新的datetime对象tt_syd(hongkong时区)\n",
    "print 'tt_hk =  ',tt_hk,'| timezone = ',tt_hk.tzinfo"
   ]
  },
  {
   "cell_type": "code",
   "execution_count": 7,
   "metadata": {},
   "outputs": [
    {
     "name": "stdout",
     "output_type": "stream",
     "text": [
      "[ datetime对象的时区变换 ]\n",
      "\n",
      "From: tt_hkx =   1970-01-01 12:00:01.123000+08:00 | timezone =  Asia/Hong_Kong\n",
      "  To: tt_sydx =  1970-01-01 14:00:01.123000+10:00 | timezone =  Australia/Sydney\n",
      "\n",
      "From: tt_sydx =  1970-01-01 14:00:01.123000+10:00 | timezone =  Australia/Sydney\n",
      "  To: tt_hkx =   1970-01-01 12:00:01.123000+08:00 | timezone =  Asia/Hong_Kong\n"
     ]
    }
   ],
   "source": [
    "#-----------------------------------------------------------------\n",
    "# datetime对象的时区变换\n",
    "#-----------------------------------------------------------------\n",
    "print '[ datetime对象的时区变换 ]\\n'\n",
    "\n",
    "# 例子1：已知hongkong时间tt_hkx，求此刻的悉尼时间tt_sydx\n",
    "#\n",
    "tt_hkx = tt_hk                         # 假设tt_hkx等于上述已定义的tt_hk\n",
    "tt_sydx = tt_hkx.astimezone(tz_syd)    # 使用astimezone方法，由tt_hkx导出tt_sydx\n",
    "print 'From: tt_hkx =  ',tt_hkx, '| timezone = ',tt_hkx.tzinfo\n",
    "print '  To: tt_sydx = ',tt_sydx, '| timezone = ',tt_sydx.tzinfo\n",
    "print\n",
    "\n",
    "# 例子2：已知sydney时间tt_sydx，求此刻的hongkong时间tt_hkx\n",
    "#\n",
    "tt_hkx = tt_sydx.astimezone(tz_hk)    # 使用astimezone方法，由tt_sydx导出tt_hkx\n",
    "print 'From: tt_sydx = ',tt_sydx, '| timezone = ',tt_sydx.tzinfo\n",
    "print '  To: tt_hkx =  ',tt_hkx, '| timezone = ',tt_hkx.tzinfo"
   ]
  },
  {
   "cell_type": "code",
   "execution_count": 8,
   "metadata": {},
   "outputs": [
    {
     "name": "stdout",
     "output_type": "stream",
     "text": [
      "[ 字符串<->datetime对象 ]\n",
      "\n",
      "From:  12/30/2010 930\n",
      "  To:  2010-12-30 09:30:00\n",
      "\n",
      "From:  2010-12-30 09:30:00\n",
      "  To:  2010/12/30 09:30:00\n"
     ]
    }
   ],
   "source": [
    "#-----------------------------------------------------------------\n",
    "# 字符串<->datetime对象\n",
    "#-----------------------------------------------------------------\n",
    "print '[ 字符串<->datetime对象 ]\\n'\n",
    "\n",
    "# 日期时间字符串->datetime对象\n",
    "#\n",
    "datestr = '12/30/2010'\n",
    "timestr = '930'\n",
    "dtstr = datestr+' '+timestr\n",
    "print 'From: ',dtstr\n",
    "ttx = datetime.datetime.strptime(dtstr,'%m/%d/%Y %H%M')\n",
    "print '  To: ',ttx\n",
    "print\n",
    "\n",
    "# datetime对象->日期时间字符串\n",
    "#\n",
    "dtstr2 = ttx.strftime('%Y/%m/%d %H:%M:%S')\n",
    "print 'From: ',ttx\n",
    "print '  To: ',dtstr2"
   ]
  },
  {
   "cell_type": "code",
   "execution_count": 9,
   "metadata": {},
   "outputs": [
    {
     "name": "stdout",
     "output_type": "stream",
     "text": [
      "UTC:  2015-06-07 01:30:00+00:00 1433640600\n"
     ]
    }
   ],
   "source": [
    "tt_trade1 = datetime.datetime(2015, 6, 7, 9, 30, 0)\n",
    "tt_hk1 = tz_hk.localize(tt_trade1) #Hong Kong time zone trade time\n",
    "tt_utc1 = tt_hk1.astimezone(tz_utc) #convert to UTC time zone\n",
    "ts_utc1 = int(calendar.timegm(tt_utc1.timetuple())) #ts_utc1 for time bucket allocation\n",
    "print 'UTC: ',tt_utc1, ts_utc1"
   ]
  },
  {
   "cell_type": "code",
   "execution_count": null,
   "metadata": {
    "collapsed": true
   },
   "outputs": [],
   "source": []
  }
 ],
 "metadata": {
  "kernelspec": {
   "display_name": "Python 2",
   "language": "python",
   "name": "python2"
  },
  "language_info": {
   "codemirror_mode": {
    "name": "ipython",
    "version": 2
   },
   "file_extension": ".py",
   "mimetype": "text/x-python",
   "name": "python",
   "nbconvert_exporter": "python",
   "pygments_lexer": "ipython2",
   "version": "2.7.13"
  }
 },
 "nbformat": 4,
 "nbformat_minor": 1
}
