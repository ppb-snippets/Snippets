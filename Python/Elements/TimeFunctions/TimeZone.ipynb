{
 "cells": [
  {
   "cell_type": "code",
   "execution_count": 1,
   "metadata": {
    "collapsed": false
   },
   "outputs": [],
   "source": [
    "#-----------------------------------------------------------------\n",
    "# 第一步：导入所需的库模块\n",
    "#-----------------------------------------------------------------\n",
    "# -*- coding: utf-8 -*- #设置文字编码为UTF-8，以便支持中文打印输出\n",
    "import datetime            #导入datetime库\n",
    "import time                #导入time库\n",
    "import calendar            #导入calendar库\n",
    "import pytz                #导入pytz库 (python timezone)"
   ]
  },
  {
   "cell_type": "code",
   "execution_count": 2,
   "metadata": {
    "collapsed": false
   },
   "outputs": [
    {
     "name": "stdout",
     "output_type": "stream",
     "text": [
      "[2] 创建 timezone 对象:\n",
      "tz_utc = UTC\n",
      "tz_syd = Australia/Sydney\n",
      "tz_hk = Asia/Hong_Kong\n",
      "tz_sh = Asia/Shanghai\n",
      "tz_tokyo = Asia/Tokyo\n",
      "tz_seoul = Asia/Seoul\n",
      "tz_sig = Asia/Singapore\n",
      "tz_nyc = America/New_York\n"
     ]
    }
   ],
   "source": [
    "#-----------------------------------------------------------------\n",
    "# 第二步：创建时区对象\n",
    "#-----------------------------------------------------------------\n",
    "print '[2] 创建 timezone 对象:'\n",
    "\n",
    "tz_utc = pytz.timezone('UTC')                      #创建UTC时区：tz_utc\n",
    "tz_syd = pytz.timezone('Australia/Sydney')         #创建<悉尼>时区：tz_syd\n",
    "tz_hk = pytz.timezone('Asia/Hong_Kong')            #创建<香港>时区：tz_hk\n",
    "tz_sh = pytz.timezone('Asia/Shanghai')             #创建<上海>时区：tz_sh\n",
    "tz_tokyo = pytz.timezone('Asia/Tokyo')             #创建<东京>时区：tz_tokyo\n",
    "tz_seoul = pytz.timezone('Asia/Seoul')             #创建<首尔>时区：tz_seoul\n",
    "tz_sig = pytz.timezone('Asia/Singapore')           #创建<新加坡>时区：tz_sig\n",
    "tz_nyc = pytz.timezone('America/New_York')         #创建<纽约>时区：tz_nyc\n",
    "\n",
    "#DEBUG：打印检查所创建的时区对象\n",
    "print 'tz_utc =',tz_utc         #DEBUG_PRINT\n",
    "print 'tz_syd =',tz_syd         #DEBUG_PRINT\n",
    "print 'tz_hk =',tz_hk           #DEBUG_PRINT\n",
    "print 'tz_sh =',tz_sh           #DEBUG_PRINT\n",
    "print 'tz_tokyo =',tz_tokyo     #DEBUG_PRINT\n",
    "print 'tz_seoul =',tz_seoul     #DEBUG_PRINT\n",
    "print 'tz_sig =',tz_sig         #DEBUG_PRINT\n",
    "print 'tz_nyc =',tz_nyc         #DEBUG_PRINT"
   ]
  },
  {
   "cell_type": "code",
   "execution_count": 3,
   "metadata": {
    "collapsed": false
   },
   "outputs": [
    {
     "name": "stdout",
     "output_type": "stream",
     "text": [
      "[3] 设定交易时间：\n",
      "tt_trade = 1970-01-01 09:30:00\n"
     ]
    }
   ],
   "source": [
    "#-----------------------------------------------------------------\n",
    "# 第三步：设定交易时间\n",
    "#-----------------------------------------------------------------\n",
    "print '[3] 设定交易时间：'\n",
    "tt_trade = datetime.datetime(1970,1,1,9,30,0)    #tt_trade: 设定交易时间datetime对象（无时区信息）\n",
    "print 'tt_trade =',tt_trade"
   ]
  },
  {
   "cell_type": "code",
   "execution_count": 4,
   "metadata": {
    "collapsed": false,
    "scrolled": false
   },
   "outputs": [
    {
     "name": "stdout",
     "output_type": "stream",
     "text": [
      "[4.1] Test-1: 香港->悉尼\n",
      "* From <香港>：\n",
      "tt_hk = 1970-01-01 09:30:00+08:00 | tz = Asia/Hong_Kong\n",
      "ts_hk = 34200  (python_timestamp)\n",
      "tsone_hk = 34200000000000   (onetick_timestamp)\n",
      "* To <悉尼>：\n",
      "tt_syd = 1970-01-01 11:30:00+10:00 | tz= Australia/Sydney\n",
      "ts_syd = 41400   (python_timestamp)\n",
      "tsone_syd = 41400000000000   (onetick_timestamp)\n"
     ]
    }
   ],
   "source": [
    "#-----------------------------------------------------------------\n",
    "# 第四步：不同时区时间变换 & timestamp转换\n",
    "#-----------------------------------------------------------------\n",
    "#    Test-1: 香港->悉尼\n",
    "#-----------------------------------------------------------------\n",
    "print '[4.1] Test-1: 香港->悉尼'\n",
    "print '* From <香港>：'\n",
    "\n",
    "#创建<香港>交易时间\n",
    "tt_hk=tz_hk.localize(tt_trade)                      #从设定交易时间tt_trade创建香港时区交易时间\n",
    "print 'tt_hk =',tt_hk,'| tz =',tt_hk.tzinfo         #DEBUG_PRINT\n",
    "\n",
    "#提取<香港>交易时间timestamp\n",
    "ts_hk = calendar.timegm(tt_hk.timetuple())          #ts_hk=香港时区的timestamp\n",
    "print 'ts_hk =',ts_hk,' (python_timestamp)'            \n",
    "tsone_hk = int(ts_hk * 1e9)                           #tsone_hk=香港时区的onetick timestamp (resolution = 1ns = 10e-9s)\n",
    "print 'tsone_hk =',tsone_hk,'  (onetick_timestamp)'\n",
    "\n",
    "print '* To <悉尼>：'\n",
    "#<香港>交易时间转换为<悉尼>时间\n",
    "tt_syd = tt_hk.astimezone(tz_syd)                     #将香港交易时间tt_hk转换为悉尼时间tt_syd\n",
    "print 'tt_syd =',tt_syd,'| tz=',tt_syd.tzinfo          #DEBUG_PRINT\n",
    "\n",
    "#提取<悉尼>时间timestamp\n",
    "ts_syd = calendar.timegm(tt_syd.timetuple())              #ts_syd=悉尼时区的timestamp\n",
    "print 'ts_syd =',ts_syd,'  (python_timestamp)'\n",
    "tsone_syd = int(ts_syd * 1e9)                         #tsone_syd=悉尼时区的onetick timestamp\n",
    "print 'tsone_syd =',tsone_syd,'  (onetick_timestamp)'"
   ]
  },
  {
   "cell_type": "code",
   "execution_count": 5,
   "metadata": {
    "collapsed": false
   },
   "outputs": [
    {
     "name": "stdout",
     "output_type": "stream",
     "text": [
      "[4.2] Test-2: 悉尼->香港\n",
      "* From <悉尼>：\n",
      "tt_syd = 1970-01-01 09:30:00+10:00 | tz = Australia/Sydney\n",
      "ts_syd = 34200  (python_timestamp)\n",
      "tsone_syd = 34200000000000   (onetick_timestamp)\n",
      "* To <香港>：\n",
      "tt_hk = 1970-01-01 07:30:00+08:00 | tz= Asia/Hong_Kong\n",
      "ts_hk = 27000   (python_timestamp)\n",
      "tsone_hk = 27000000000000   (onetick_timestamp)\n"
     ]
    }
   ],
   "source": [
    "#-----------------------------------------------------------------\n",
    "# 第四步：不同时区时间变换 & timestamp转换\n",
    "#-----------------------------------------------------------------\n",
    "#    Test-2: 悉尼->香港\n",
    "#-----------------------------------------------------------------\n",
    "print '[4.2] Test-2: 悉尼->香港'\n",
    "print '* From <悉尼>：'\n",
    "\n",
    "#创建<悉尼>交易时间\n",
    "tt_syd=tz_syd.localize(tt_trade)                      #从设定交易时间tt_trade创建悉尼时区交易时间\n",
    "print 'tt_syd =',tt_syd,'| tz =',tt_syd.tzinfo          #DEBUG_PRINT\n",
    "\n",
    "#提取<悉尼>交易时间timestamp\n",
    "ts_syd = calendar.timegm(tt_syd.timetuple())              #ts_syd=悉尼时区的timestamp\n",
    "print 'ts_syd =',ts_syd,' (python_timestamp)'            \n",
    "tsone_syd = int(ts_syd * 1e9)                         #tsone_syd=悉尼时区的onetick timestamp (resolution = 1ns = 10e-9s)\n",
    "print 'tsone_syd =',tsone_syd,'  (onetick_timestamp)'\n",
    "\n",
    "print '* To <香港>：'\n",
    "#<悉尼>交易时间转换为<香港>时间\n",
    "tt_hk = tt_syd.astimezone(tz_hk)                      #将悉尼交易时间tt_hk转换为香港时间tt_syd\n",
    "print 'tt_hk =',tt_hk,'| tz=',tt_hk.tzinfo             #DEBUG_PRINT\n",
    "\n",
    "#提取<香港>时间timestamp\n",
    "ts_hk = calendar.timegm(tt_hk.timetuple())                #ts_syd=香港时区的timestamp\n",
    "print 'ts_hk =',ts_hk,'  (python_timestamp)'\n",
    "tsone_hk = int(ts_hk * 1e9)                           #tsone_syd=香港时区的onetick timestamp\n",
    "print 'tsone_hk =',tsone_hk,'  (onetick_timestamp)'"
   ]
  },
  {
   "cell_type": "code",
   "execution_count": 6,
   "metadata": {
    "collapsed": false
   },
   "outputs": [
    {
     "name": "stdout",
     "output_type": "stream",
     "text": [
      "[4.3] Test-3: 东京->悉尼\n",
      "* From <东京>：\n",
      "tt_tokyo = 1970-01-01 09:30:00+09:00 | tz = Asia/Tokyo\n",
      "ts_tokyo = 34200  (python_timestamp)\n",
      "tsone_tokyo = 34200000000000   (onetick_timestamp)\n",
      "* To <悉尼>：\n",
      "tt_syd = 1970-01-01 10:30:00+10:00 | tz= Australia/Sydney\n",
      "ts_syd = 37800   (python_timestamp)\n",
      "tsone_syd = 37800000000000   (onetick_timestamp)\n"
     ]
    }
   ],
   "source": [
    "#-----------------------------------------------------------------\n",
    "# 第四步：不同时区时间变换 & timestamp转换\n",
    "#-----------------------------------------------------------------\n",
    "#    Test-3: 东京->悉尼\n",
    "#-----------------------------------------------------------------\n",
    "print '[4.3] Test-3: 东京->悉尼'\n",
    "print '* From <东京>：'\n",
    "\n",
    "#创建<东京>交易时间\n",
    "tt_tokyo = tz_tokyo.localize(tt_trade)                #从设定交易时间tt_trade创建东京时区交易时间\n",
    "print 'tt_tokyo =',tt_tokyo,'| tz =',tt_tokyo.tzinfo    #DEBUG_PRINT\n",
    "\n",
    "#提取<东京>交易时间timestamp\n",
    "ts_tokyo = calendar.timegm(tt_tokyo.timetuple())          #ts_tokyo=东京时区的timestamp\n",
    "print 'ts_tokyo =',ts_tokyo,' (python_timestamp)'            \n",
    "tsone_tokyo = int(ts_tokyo * 1e9)                     #tsone_tokyo=东京时区的onetick timestamp\n",
    "print 'tsone_tokyo =',tsone_tokyo,'  (onetick_timestamp)'\n",
    "\n",
    "print '* To <悉尼>：'\n",
    "#<香港>交易时间转换为<悉尼>时间\n",
    "tt_syd = tt_tokyo.astimezone(tz_syd)                  #将东京交易时间tt_tokyo转换为悉尼时间tt_syd\n",
    "print 'tt_syd =',tt_syd,'| tz=',tt_syd.tzinfo          #DEBUG_PRINT\n",
    "\n",
    "#提取<悉尼>时间timestamp\n",
    "ts_syd = calendar.timegm(tt_syd.timetuple())              #ts_syd=悉尼时区的timestamp\n",
    "print 'ts_syd =',ts_syd,'  (python_timestamp)'\n",
    "tsone_syd = int(ts_syd * 1e9)                         #tsone_syd=悉尼时区的onetick timestamp\n",
    "print 'tsone_syd =',tsone_syd,'  (onetick_timestamp)'"
   ]
  },
  {
   "cell_type": "code",
   "execution_count": 7,
   "metadata": {
    "collapsed": false
   },
   "outputs": [
    {
     "name": "stdout",
     "output_type": "stream",
     "text": [
      "[4.4] Test-4: 悉尼->东京\n",
      "* From <悉尼>：\n",
      "tt_syd = 1970-01-01 09:30:00+10:00 | tz = Australia/Sydney\n",
      "ts_syd = 34200  (python_timestamp)\n",
      "tsone_syd = 34200000000000   (onetick_timestamp)\n",
      "* To <东京>：\n",
      "tt_tokyo = 1970-01-01 08:30:00+09:00 | tz= Asia/Tokyo\n",
      "ts_tokyo = 30600   (python_timestamp)\n",
      "tsone_tokyo = 30600000000000   (onetick_timestamp)\n"
     ]
    }
   ],
   "source": [
    "#-----------------------------------------------------------------\n",
    "# 第四步：不同时区时间变换 & timestamp转换\n",
    "#-----------------------------------------------------------------\n",
    "#    Test-4: 悉尼->东京\n",
    "#-----------------------------------------------------------------\n",
    "print '[4.4] Test-4: 悉尼->东京'\n",
    "print '* From <悉尼>：'\n",
    "\n",
    "#创建<悉尼>交易时间\n",
    "tt_syd = tz_syd.localize(tt_trade)                      #从设定交易时间tt_trade创建悉尼时区交易时间\n",
    "print 'tt_syd =',tt_syd,'| tz =',tt_syd.tzinfo          #DEBUG_PRINT\n",
    "\n",
    "#提取<悉尼>交易时间timestamp\n",
    "ts_syd = calendar.timegm(tt_syd.timetuple())              #ts_syd=悉尼时区的timestamp\n",
    "print 'ts_syd =',ts_syd,' (python_timestamp)'            \n",
    "tsone_syd = int(ts_syd * 1e9)                         #tsone_syd=悉尼时区的onetick timestamp (resolution = 1ns = 10e-9s)\n",
    "print 'tsone_syd =',tsone_syd,'  (onetick_timestamp)'\n",
    "\n",
    "print '* To <东京>：'\n",
    "#<悉尼>交易时间转换为<东京>时间\n",
    "tt_tokyo = tt_syd.astimezone(tz_tokyo)                #将悉尼交易时间tt_hk转换为东京时间tt_syd\n",
    "print 'tt_tokyo =',tt_tokyo,'| tz=',tt_tokyo.tzinfo    #DEBUG_PRINT\n",
    "\n",
    "#提取<东京>时间timestamp\n",
    "ts_tokyo = calendar.timegm(tt_tokyo.timetuple())          #ts_syd=东京时区的timestamp\n",
    "print 'ts_tokyo =',ts_tokyo,'  (python_timestamp)'\n",
    "tsone_tokyo = int(ts_tokyo * 1e9)                     #tsone_syd=东京时区的onetick timestamp\n",
    "print 'tsone_tokyo =',tsone_tokyo,'  (onetick_timestamp)'"
   ]
  },
  {
   "cell_type": "code",
   "execution_count": null,
   "metadata": {
    "collapsed": true
   },
   "outputs": [],
   "source": []
  }
 ],
 "metadata": {
  "kernelspec": {
   "display_name": "Python 2",
   "language": "python",
   "name": "python2"
  },
  "language_info": {
   "codemirror_mode": {
    "name": "ipython",
    "version": 2
   },
   "file_extension": ".py",
   "mimetype": "text/x-python",
   "name": "python",
   "nbconvert_exporter": "python",
   "pygments_lexer": "ipython2",
   "version": "2.7.13"
  }
 },
 "nbformat": 4,
 "nbformat_minor": 0
}
