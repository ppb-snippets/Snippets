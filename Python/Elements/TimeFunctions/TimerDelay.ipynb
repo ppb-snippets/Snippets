{
 "cells": [
  {
   "cell_type": "code",
   "execution_count": 1,
   "metadata": {
    "collapsed": true
   },
   "outputs": [],
   "source": [
    "# python general\n",
    "import datetime as dt\n",
    "from datetime import datetime\n",
    "from datetime import time\n",
    "from datetime import date\n",
    "import time as tm\n",
    "\n",
    "# numpy\n",
    "import numpy as np\n",
    "\n",
    "# pandas\n",
    "import pandas as pd\n",
    "\n",
    "# matplotlib\n",
    "import matplotlib as mpl\n",
    "from matplotlib import cm\n",
    "from mpl_toolkits.mplot3d import Axes3D\n",
    "import matplotlib.pyplot as plt\n",
    "\n",
    "# display image in the cells of notebook\n",
    "from IPython.display import Image  \n",
    "from IPython.display import display"
   ]
  },
  {
   "cell_type": "code",
   "execution_count": 2,
   "metadata": {
    "collapsed": true
   },
   "outputs": [],
   "source": [
    "# define the function to be called periodically\n",
    "def mytask():\n",
    "    print '> ',tm.asctime()"
   ]
  },
  {
   "cell_type": "code",
   "execution_count": 3,
   "metadata": {
    "collapsed": false,
    "scrolled": true
   },
   "outputs": [
    {
     "name": "stdout",
     "output_type": "stream",
     "text": [
      "*** How to break the loop:\n",
      "*** Method-1: Toolbar: STOP\n",
      "*** Method-2: Menu: Kernel->Interrupt\n",
      "[START]\n",
      ">  Thu Nov 05 00:53:49 2015\n",
      ">  Thu Nov 05 00:53:51 2015\n",
      ">  Thu Nov 05 00:53:53 2015\n",
      ">  Thu Nov 05 00:53:55 2015\n",
      "[END]: terminated by user\n"
     ]
    }
   ],
   "source": [
    "# start a infinite loop to run <timer_task> every 2s\n",
    "print '*** How to break the loop:'\n",
    "print '*** Method-1: Toolbar: STOP'\n",
    "print '*** Method-2: Menu: Kernel->Interrupt'\n",
    "try:\n",
    "    print '[START]'\n",
    "    while True:\n",
    "        mytask()\n",
    "        tm.sleep(2)  # sleep/delay 2s\n",
    "except:\n",
    "    print '[END]: terminated by user'"
   ]
  },
  {
   "cell_type": "code",
   "execution_count": null,
   "metadata": {
    "collapsed": true
   },
   "outputs": [],
   "source": []
  }
 ],
 "metadata": {
  "kernelspec": {
   "display_name": "Python 2",
   "language": "python",
   "name": "python2"
  },
  "language_info": {
   "codemirror_mode": {
    "name": "ipython",
    "version": 2
   },
   "file_extension": ".py",
   "mimetype": "text/x-python",
   "name": "python",
   "nbconvert_exporter": "python",
   "pygments_lexer": "ipython2",
   "version": "2.7.13"
  }
 },
 "nbformat": 4,
 "nbformat_minor": 0
}
