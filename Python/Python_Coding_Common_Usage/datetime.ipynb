{
 "cells": [
  {
   "cell_type": "code",
   "execution_count": null,
   "metadata": {
    "collapsed": true
   },
   "outputs": [],
   "source": [
    "\"\"\"\n",
    "Date and time\n",
    "\"\"\""
   ]
  },
  {
   "cell_type": "code",
   "execution_count": 34,
   "metadata": {
    "collapsed": true
   },
   "outputs": [],
   "source": [
    "import pandas as pd\n",
    "import numpy as np\n",
    "\n",
    "import datetime as dt\n",
    "from datetime import datetime\n",
    "from datetime import timedelta\n",
    "from dateutil.parser import parse\n",
    "\n",
    "import time\n",
    "import calendar\n",
    "import pytz  #world time zone definition"
   ]
  },
  {
   "cell_type": "code",
   "execution_count": 20,
   "metadata": {
    "collapsed": false
   },
   "outputs": [
    {
     "data": {
      "text/plain": [
       "datetime.datetime(2001, 1, 19, 0, 0)"
      ]
     },
     "execution_count": 20,
     "metadata": {},
     "output_type": "execute_result"
    }
   ],
   "source": [
    "#date and time basics\n",
    "now = datetime.now() #date and time now\n",
    "now.year, now.month, now.day\n",
    "\n",
    "delta = datetime(2011, 1, 7) - datetime(2008, 6, 24, 8, 15) #temporal difference\n",
    "delta.days, delta.seconds\n",
    "\n",
    "start = datetime(2001, 1, 7) #shifted datetime\n",
    "start + timedelta(12)"
   ]
  },
  {
   "cell_type": "code",
   "execution_count": 33,
   "metadata": {
    "collapsed": false
   },
   "outputs": [
    {
     "data": {
      "text/plain": [
       "DatetimeIndex(['2011-07-06', '2011-08-06'], dtype='datetime64[ns]', freq=None)"
      ]
     },
     "execution_count": 33,
     "metadata": {},
     "output_type": "execute_result"
    }
   ],
   "source": [
    "#convert between string and datetime\n",
    "stamp = datetime(2011, 1, 3) #datetime to string\n",
    "str(stamp), stamp.strftime('%Y-%m')\n",
    "\n",
    "value = '2011-01-03' #string to datetime\n",
    "datetime.strptime(value, '%Y-%m-%d')\n",
    "parse('2011-01-03')\n",
    "\n",
    "datestrs = ['7/6/2011', '8/6/2011'] #string to datetime with pandas\n",
    "pd.to_datetime(datestrs)\n"
   ]
  },
  {
   "cell_type": "code",
   "execution_count": 43,
   "metadata": {
    "collapsed": false
   },
   "outputs": [
    {
     "data": {
      "text/plain": [
       "(0.20311585782027244, -0.14221141915635238)"
      ]
     },
     "execution_count": 43,
     "metadata": {},
     "output_type": "execute_result"
    }
   ],
   "source": [
    "#pandas timeseries - generate series with dates as index\n",
    "dates = [datetime(2011, 1, 2), datetime(2011, 1, 5), datetime(2011, 1, 7)] \n",
    "ts = pd.Series(np.random.randn(3), index=dates) #pandas series, dates as index\n",
    "ts['01/02/2011'], ts['20110105']\n"
   ]
  },
  {
   "cell_type": "code",
   "execution_count": 46,
   "metadata": {
    "collapsed": true
   },
   "outputs": [],
   "source": [
    "#pandas timeseries - generate date range\n",
    "drange1 = pd.date_range('1/1/2000', periods=1000) #date range\n",
    "drange2 = pd.date_range('1/1/2000', '12/1/2000', freq='BM') #last business day of each month\n",
    "drange3 = pd.date_range('1/1/2000', '1/3/2000 23:59', freq='4h')\n",
    "drange4 = pd.date_range('1/1/2012', '9/1/2012', freq='WOM-3FRI') #third Friday of each month"
   ]
  },
  {
   "cell_type": "code",
   "execution_count": null,
   "metadata": {
    "collapsed": true
   },
   "outputs": [],
   "source": []
  },
  {
   "cell_type": "code",
   "execution_count": null,
   "metadata": {
    "collapsed": false
   },
   "outputs": [],
   "source": [
    "#time zone object\n",
    "tz_hk = pytz.timezone('Asia/Hong_Kong')\n",
    "tz_syd = pytz.timezone('Australia/Sydney')\n",
    "tz_utc = pytz.timezone('UTC')"
   ]
  },
  {
   "cell_type": "code",
   "execution_count": null,
   "metadata": {
    "collapsed": false
   },
   "outputs": [],
   "source": [
    "#construct trade time\n",
    "tt_trade1 = datetime(2015, 6, 7, 9, 30, 0, 10000)\n",
    "tt_trade2 = datetime(2015, 6, 7, 16, 0, 0, 20000)\n",
    "print tt_trade1\n",
    "print tt_trade2\n"
   ]
  },
  {
   "cell_type": "code",
   "execution_count": null,
   "metadata": {
    "collapsed": false
   },
   "outputs": [],
   "source": [
    "#convert to timestamp at differnt time zone\n",
    "tt_hk1 = tz_hk.localize(tt_trade1) #Hong Kong time zone trade time\n",
    "ts_hk1 = int(calendar.timegm(tt_hk1.timetuple())) #timestamp at Hong Kong time zone\n",
    "tt_hk2 = tz_hk.localize(tt_trade2)\n",
    "ts_hk2 = int(calendar.timegm(tt_hk2.timetuple()))\n",
    "print tt_hk1, ts_hk1, tt_hk2, ts_hk2\n",
    "#convert Hong Kong time zone trade time to Sydney time zone trade time\n",
    "tt_syd1 = tt_hk1.astimezone(tz_syd)\n",
    "ts_syd1 = int(calendar.timegm(tt_syd1.timetuple()))\n",
    "tt_syd2 = tt_hk2.astimezone(tz_syd)\n",
    "ts_syd2 = int(calendar.timegm(tt_syd2.timetuple()))\n",
    "print tt_syd1, ts_syd1, tt_syd2, ts_syd2\n",
    "\n",
    "print tt_syd1.weekday()"
   ]
  },
  {
   "cell_type": "code",
   "execution_count": null,
   "metadata": {
    "collapsed": false
   },
   "outputs": [],
   "source": [
    "#test steps\n",
    "\n",
    "#step 1: confirm consistency of onetick timestamp value and IPython displayed timestamp value\n",
    "\n",
    "#step 2: convert timestamp of first record to datetime\n",
    "#        assume timestamp = 1433669400 (2015-06-07 09:30:00)\n",
    "ts_1st = 1433669400 #put IPython displayed timestamp value here\n",
    "tt_1st = datetime.utcfromtimestamp(ts_1st) \n",
    "print 'trade time = ',tt_1st\n",
    "\n",
    "#step 3: from tt_1st value, determine it's represented time zone\n",
    "#        if tt_1st = 01:30:00, it represents UTC time zone\n",
    "#        if tt_1st = 09:30:00, it represents Hong Kong time zone\n",
    "#        if tt_1st = 11:30:00 or 12:30:00, it represents Sydney time zone\n",
    "\n",
    "#step 4: from step 3 results, set correct trade time and timestamp\n",
    "#        if UTC time zone\n",
    "tt_trade1 = datetime(2015, 6, 7, 9, 30, 0)\n",
    "tt_hk1 = tz_hk.localize(tt_trade1) #Hong Kong time zone trade time\n",
    "tt_utc1 = tt_hk1.astimezone(tz_utc) #convert to UTC time zone\n",
    "ts_utc1 = int(calendar.timegm(tt_utc1.timetuple())) #ts_utc1 is used for time bucket allocation\n",
    "print 'UTC: ',tt_utc1, ts_utc1\n",
    "\n",
    "#        if Hong Kong time zone\n",
    "tt_trade1 = datetime(2015, 6, 7, 9, 30, 0)\n",
    "tt_hk1 = tz_hk.localize(tt_trade1) #Hong Kong time zone trade time\n",
    "ts_hk1 = int(calendar.timegm(tt_hk1.timetuple())) #ts_hk1 is used for time bucket allocation\n",
    "print 'HK: ',tt_hk1, ts_hk1\n",
    "\n",
    "#        if Sydney time zone\n",
    "tt_trade1 = datetime(2015, 6, 7, 9, 30, 0)\n",
    "tt_hk1 = tz_hk.localize(tt_trade1) #Hong Kong time zone trade time\n",
    "tt_syd1 = tt_hk1.astimezone(tz_syd) #convert to Sydney time zone\n",
    "ts_syd1 = int(calendar.timegm(tt_syd1.timetuple())) #ts_syd1 is used for time bucket allocation\n",
    "print 'SYD: ',tt_syd1, ts_syd1\n",
    "\n"
   ]
  },
  {
   "cell_type": "code",
   "execution_count": null,
   "metadata": {
    "collapsed": true
   },
   "outputs": [],
   "source": []
  }
 ],
 "metadata": {
  "anaconda-cloud": {},
  "kernelspec": {
   "display_name": "Python [Root]",
   "language": "python",
   "name": "Python [Root]"
  },
  "language_info": {
   "codemirror_mode": {
    "name": "ipython",
    "version": 2
   },
   "file_extension": ".py",
   "mimetype": "text/x-python",
   "name": "python",
   "nbconvert_exporter": "python",
   "pygments_lexer": "ipython2",
   "version": "2.7.12"
  }
 },
 "nbformat": 4,
 "nbformat_minor": 0
}
