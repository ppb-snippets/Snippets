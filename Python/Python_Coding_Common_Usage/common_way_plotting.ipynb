{
 "cells": [
  {
   "cell_type": "code",
   "execution_count": null,
   "metadata": {
    "collapsed": true
   },
   "outputs": [],
   "source": [
    "\"\"\"\n",
    "Common ways of plot\n",
    "\"\"\""
   ]
  },
  {
   "cell_type": "code",
   "execution_count": 1,
   "metadata": {
    "collapsed": true
   },
   "outputs": [],
   "source": [
    "import pandas as pd\n",
    "import numpy as np\n",
    "\n",
    "from sklearn import preprocessing\n",
    "\n",
    "import matplotlib as mpl\n",
    "import matplotlib.pyplot as plt\n",
    "from matplotlib import cm\n",
    "from matplotlib.colors import ListedColormap as lcmap\n",
    "from mpl_toolkits.mplot3d import Axes3D\n",
    "\n",
    "import seaborn as sns"
   ]
  },
  {
   "cell_type": "code",
   "execution_count": 2,
   "metadata": {
    "collapsed": false
   },
   "outputs": [],
   "source": [
    "# time series - function for loading data\n",
    "\n",
    "def load_preprocess():\n",
    "    df0 = pd.read_csv('NYSE_no-finance_day_by_day_matrix_close_price.csv', header=None)\n",
    "    dfo0 = pd.read_csv('NYSE_no-finance_day_by_day_matrix_open_price.csv', header=None)\n",
    "    dfh0 = pd.read_csv('NYSE_no-finance_day_by_day_matrix_high_price.csv', header=None)\n",
    "    dftr0 = pd.read_csv('NYSE_no-finance_macrotrend.csv', header=None)\n",
    "    dfslp0 = pd.read_csv('NYSE_no-finance_macroreturn.csv', header=None)\n",
    "    \n",
    "    #stock prices only, exclude date\n",
    "    dfp = df0.ix[4031:5288, 1:]\n",
    "    dfpo = dfo0.ix[4031:5288, 1:]\n",
    "    dfph = dfh0.ix[4031:5288, 1:]\n",
    "    \n",
    "    dfp = dfp.set_index(np.arange(0, len(dfp)))\n",
    "    dfpo = dfpo.set_index(np.arange(0, len(dfpo)))\n",
    "    dfph = dfph.set_index(np.arange(0, len(dfph)))\n",
    "    \n",
    "    dftr = dftr0.ix[0:dftr0.shape[0]-2, :]\n",
    "    dfslp = dfslp0.ix[0:dfslp0.shape[0]-2, :]\n",
    "    \n",
    "    dftr = dftr.set_index(np.arange(0, len(dftr)))\n",
    "    dfslp = dfslp.set_index(np.arange(0, len(dfslp)))\n",
    "    \n",
    "    #price differentiation\n",
    "    dfp_d = dfp.diff()\n",
    "    dfp_r = dfp_d / dfp.shift(1)\n",
    "    dfp_d5 = dfp - dfp.shift(5)\n",
    "    dfp_r5 = dfp_d5 / dfp.shift(5)\n",
    "    \n",
    "    return dfp, dfpo, dfph, dfp_d, dfp_r, dfp_d5, dfp_r5, dftr, dfslp\n",
    "\n",
    "dfp, dfpo, dfph, dfp_d, dfp_r, dfp_d5, dfp_r5, dftr, dfslp = load_preprocess()\n"
   ]
  },
  {
   "cell_type": "code",
   "execution_count": 42,
   "metadata": {
    "collapsed": true
   },
   "outputs": [],
   "source": [
    "# time series - curve plot\n",
    "dftmp = dfp[[134, 166, 799, 687, 1502]]\n",
    "dftmp.columns = ['Boeing', 'BHP', 'LinkedIn', 'IBM', 'Yelp']\n",
    "\n",
    "dftmp.plot()\n",
    "plt.legend(loc='upper left', prop={'size':12})\n",
    "plt.xlabel('Trading days since 01/01/2010')\n",
    "plt.ylabel('Price (US$)', fontsize=12)\n",
    "plt.title('Samples of NYSE Listed Securities', fontsize=14)\n",
    "plt.show()\n"
   ]
  },
  {
   "cell_type": "code",
   "execution_count": 57,
   "metadata": {
    "collapsed": false
   },
   "outputs": [],
   "source": [
    "# time series - plot raw return of all equities as an image\n",
    "dfp_d4 = dfp - dfp.shift(4)\n",
    "dfp_r4 = dfp_d4 / dfp.shift(4)\n",
    "\n",
    "dtmp = dfp_r\n",
    "dtmp = dtmp.fillna(0)\n",
    "dtmpm = dtmp.as_matrix()\n",
    "\n",
    "fig = plt.figure(figsize=[12, 8], facecolor='white')\n",
    "ax = fig.add_subplot(111)\n",
    "im = ax.imshow(dtmpm, cmap=cm.jet, interpolation='nearest', origin='lower', vmin=-0.02, vmax=0.02)\n",
    "\n",
    "ax.set_xlabel('Major NYSE listed securities', fontsize=14)\n",
    "ax.set_ylabel('Trading days since 01/01/2010', fontsize=14)\n",
    "ax.set_title('Daily Price Movement of Major NYSE Listed Securities', fontsize=16)\n",
    "ax.set_xticks([0, dfp.shape[1]])\n",
    "ax.set_xticklabels(['0', '1500'])\n",
    "ax.set_yticks([0, dfp.shape[0]])\n",
    "ax.set_yticklabels(['0', '1258'])\n",
    "\n",
    "plt.colorbar(im, orientation='vertical')\n",
    "plt.show()\n"
   ]
  },
  {
   "cell_type": "code",
   "execution_count": 32,
   "metadata": {
    "collapsed": false
   },
   "outputs": [],
   "source": [
    "# scatter plot - 1D, 2D and 3D\n",
    "\n",
    "#generate synthetic data\n",
    "np.random.seed(0)\n",
    "num = 30\n",
    "pr = np.random.uniform(low=10, high=20, size=num).reshape(num, 1)\n",
    "pp = np.random.uniform(low=10, high=20, size=num).reshape(num, 1)\n",
    "rp = np.random.uniform(low=10, high=20, size=num).reshape(num, 1)\n",
    "apr = np.cos(pr)*np.sin(pp)\n",
    "label = 1*np.ones(num, np.int).reshape(num, 1)\n",
    "label[apr>0] = 0\n",
    "label[apr<=0] = 1\n",
    "\n",
    "df0 = np.hstack((pr, pp, rp, apr, label))\n",
    "df = pd.DataFrame(df0)\n",
    "df.columns = ['pr', 'pp', 'rp', 'apr', 'label']\n",
    "\n",
    "dcolor= ['red', 'blue']\n",
    "labels = ['class1', 'class2']\n",
    "\n",
    "#1D scatter plot\n",
    "fig, ax = plt.subplots(nrows=1)\n",
    "\n",
    "for i in range(len(dcolor)):\n",
    "    xs = df['apr'][df['label']==i]\n",
    "    ys = np.ones(len(xs), np.int)\n",
    "    ax.scatter(xs, ys, c=dcolor[i], label=labels[i], linewidths=0)\n",
    "\n",
    "ax.axvline(x=0, ls='dashed', linewidth=2, c='k')\n",
    "ax.set_title('Binary class dataset X with single composite feature', fontsize=16)\n",
    "ax.set_xlabel('Composite feature cos(x1)*sin(x2)', fontsize=14)\n",
    "ax.legend()\n",
    "ax.set_yticks([])\n",
    "ax.set_yticklabels([])\n",
    "\n",
    "plt.show()\n",
    "\n",
    "# #2D scatter plot\n",
    "# for i in range(len(dcolor)):\n",
    "#     xs = df['pr'][df['label']==i]\n",
    "#     ys = df['pp'][df['label']==i]\n",
    "#     plt.scatter(xs, ys, c=dcolor[i], label=labels[i], linewidths=0)\n",
    "\n",
    "# plt.title('Binary class dataset X with two features x1 and x2', fontsize=16)\n",
    "# plt.xlabel('Feature x1', fontsize=14)\n",
    "# plt.ylabel('Feature x2', fontsize=14)\n",
    "# plt.legend(loc='lower left')\n",
    "# plt.show()\n",
    "\n",
    "# #3D scatter plot\n",
    "# fig = plt.figure()\n",
    "# ax = fig.add_subplot(111, projection='3d')\n",
    "\n",
    "# for i in range(len(dcolor)):\n",
    "#     xs = df['pr'][df['label']==i]\n",
    "#     ys = df['pp'][df['label']==i]\n",
    "#     zs = df['rp'][df['label']==i]\n",
    "#     ax.scatter(xs, ys, zs, c=dcolor[i], marker='o', alpha=1, linewidths=0)\n",
    "# plt.show()    "
   ]
  },
  {
   "cell_type": "code",
   "execution_count": 3,
   "metadata": {
    "collapsed": true
   },
   "outputs": [],
   "source": [
    "# bar plot, subplot\n",
    "lsmem = [190, 660, 2130]\n",
    "lsbala = [10144.07, 20655.94, 20905.43]\n",
    "index = np.arange(len(lsmem)).tolist()\n",
    "years = [2014, 2015, 2016]\n",
    "\n",
    "fig, ax = plt.subplots(figsize = [15,8], ncols=2)\n",
    "\n",
    "bar_width=0.35\n",
    "\n",
    "\n",
    "ax[0].bar(index, lsmem, bar_width, align='center', color='green', tick_label=years)\n",
    "ax[1].bar(index, lsbala, bar_width, align='center', color='yellow', tick_label=years)\n",
    "\n",
    "ax[0].set_title('Membership fee collected over 2014 ~ 2016', fontsize=16)\n",
    "ax[0].set_ylabel('Membership fee collected ($)', fontsize=14)\n",
    "ax[0].set_xticklabels(years, fontsize=14)\n",
    "\n",
    "ax[1].set_title('Account closing balance over 2014 ~ 2016', fontsize=16)\n",
    "ax[1].set_ylabel('Account closing balance ($)', fontsize=14)\n",
    "ax[1].set_xticklabels(years, fontsize=14)\n",
    "\n",
    "plt.show()\n"
   ]
  },
  {
   "cell_type": "code",
   "execution_count": 5,
   "metadata": {
    "collapsed": false
   },
   "outputs": [],
   "source": [
    "# mesh plot using custom colormap\n",
    "x = np.arange(10)\n",
    "colors = ('red', 'blue', 'lightgreen', 'gray', 'cyan', 'black')\n",
    "cmap1 = lcmap(colors[0:len(x)])\n",
    "\n",
    "xx1, xx2 = np.meshgrid(np.arange(0,3), np.arange(0,4))\n",
    "z1 = np.array([xx2.ravel()]).T\n",
    "z2 = z1.reshape(xx2.shape)\n",
    "\n",
    "cmap2 = lcmap(colors[0:len(np.unique(z2))])\n",
    "plt.contourf(xx1, xx2, z2, cmap=cmap2)\n",
    "plt.show()"
   ]
  },
  {
   "cell_type": "code",
   "execution_count": 28,
   "metadata": {
    "collapsed": false
   },
   "outputs": [],
   "source": [
    "# image - display synthetic image\n",
    "\n",
    "#generate image grid\n",
    "lsx = []\n",
    "for v in range(-2,3,1):\n",
    "    lsv = []\n",
    "    for t in range(-1,2,1):\n",
    "        lsv.append(t*v)\n",
    "    lsx.append(lsv)\n",
    "a = np.array(lsx)\n",
    "    \n",
    "#range of image display\n",
    "vv = np.linspace(-2.5,2.5,6)\n",
    "tt = np.linspace(-1.5,1.5,4)\n",
    "ext = [tt[0], tt[-1], vv[0], vv[-1]]\n",
    "\n",
    "#display image\n",
    "fig = plt.figure()\n",
    "ax = fig.add_subplot(111)\n",
    "ax.imshow(a, extent=ext, cmap=cm.jet, origin='lower')\n",
    "\n",
    "#draw labels of axes\n",
    "ax.set_xlabel('tt')\n",
    "ax.set_ylabel('vv')\n",
    "\n",
    "#draw colorbar\n",
    "# nrm = mpl.colors.Normalize(np.min(a), np.max(a))\n",
    "# csubplt, kw = mpl.colorbar.make_axes(ax, shrink=0.6)\n",
    "# mpl.colorbar.ColorbarBase(csubplt, cm.jet, norm=nrm)\n",
    "\n",
    "csubplt, kw = mpl.colorbar.make_axes(ax, shrink=1)\n",
    "mpl.colorbar.ColorbarBase(csubplt, cm.jet)\n",
    "\n",
    "plt.show()\n",
    "fig.savefig('test1.png')"
   ]
  },
  {
   "cell_type": "code",
   "execution_count": 67,
   "metadata": {
    "collapsed": false
   },
   "outputs": [
    {
     "name": "stderr",
     "output_type": "stream",
     "text": [
      "C:\\Anaconda2\\lib\\site-packages\\sklearn\\preprocessing\\data.py:583: DeprecationWarning: Passing 1d arrays as data is deprecated in 0.17 and will raise ValueError in 0.19. Reshape your data either using X.reshape(-1, 1) if your data has a single feature or X.reshape(1, -1) if it contains a single sample.\n",
      "  warnings.warn(DEPRECATION_MSG_1D, DeprecationWarning)\n",
      "C:\\Anaconda2\\lib\\site-packages\\sklearn\\preprocessing\\data.py:646: DeprecationWarning: Passing 1d arrays as data is deprecated in 0.17 and will raise ValueError in 0.19. Reshape your data either using X.reshape(-1, 1) if your data has a single feature or X.reshape(1, -1) if it contains a single sample.\n",
      "  warnings.warn(DEPRECATION_MSG_1D, DeprecationWarning)\n"
     ]
    }
   ],
   "source": [
    "# two variables correlated plot\n",
    "longet = pd.read_csv('features_longevity_mixall.csv')\n",
    "longet['hybrid_metric'] = longet.iloc[:, 4] + 2.2*longet.iloc[:, 8]\n",
    "\n",
    "scaler = preprocessing.StandardScaler().fit(longet['hybrid_metric'])\n",
    "longet['hybrid_metric_norm'] = scaler.transform(longet['hybrid_metric'])\n",
    "\n",
    "ax = sns.jointplot(longet['hybrid_metric_norm'], longet['age'], kind='hex', stat_func=None, xlim=(-2.8, 2.8), ylim=(35, 95))\n",
    "ax.set_axis_labels('hybrid_facial_metric_1', 'lifespan', fontsize=16)\n",
    "\n",
    "plt.colorbar()\n",
    "plt.show()\n"
   ]
  },
  {
   "cell_type": "code",
   "execution_count": null,
   "metadata": {
    "collapsed": true
   },
   "outputs": [],
   "source": [
    "# groupby plot"
   ]
  },
  {
   "cell_type": "code",
   "execution_count": 23,
   "metadata": {
    "collapsed": false
   },
   "outputs": [],
   "source": []
  },
  {
   "cell_type": "code",
   "execution_count": null,
   "metadata": {
    "collapsed": true
   },
   "outputs": [],
   "source": []
  }
 ],
 "metadata": {
  "anaconda-cloud": {},
  "kernelspec": {
   "display_name": "Python [Root]",
   "language": "python",
   "name": "Python [Root]"
  },
  "language_info": {
   "codemirror_mode": {
    "name": "ipython",
    "version": 2
   },
   "file_extension": ".py",
   "mimetype": "text/x-python",
   "name": "python",
   "nbconvert_exporter": "python",
   "pygments_lexer": "ipython2",
   "version": "2.7.12"
  }
 },
 "nbformat": 4,
 "nbformat_minor": 0
}
