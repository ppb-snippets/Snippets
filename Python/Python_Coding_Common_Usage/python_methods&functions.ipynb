{
 "cells": [
  {
   "cell_type": "code",
   "execution_count": null,
   "metadata": {
    "collapsed": false
   },
   "outputs": [],
   "source": [
    "\"\"\"\n",
    "Python methods and functions\n",
    "\"\"\""
   ]
  },
  {
   "cell_type": "code",
   "execution_count": 1,
   "metadata": {
    "collapsed": true
   },
   "outputs": [],
   "source": [
    "import pandas as pd\n",
    "import numpy as np\n",
    "\n",
    "import mydictclass as myclasses\n"
   ]
  },
  {
   "cell_type": "code",
   "execution_count": 12,
   "metadata": {
    "collapsed": false
   },
   "outputs": [
    {
     "data": {
      "text/plain": [
       "[0.38344151882577771,\n",
       " 0.89177300078207977,\n",
       " 0.64589411306665612,\n",
       " 0.54488318299689686,\n",
       " 0.71518936637241948]"
      ]
     },
     "execution_count": 12,
     "metadata": {},
     "output_type": "execute_result"
    }
   ],
   "source": [
    "# list - sorting\n",
    "np.random.seed(0)\n",
    "lssrc = list(np.random.rand(10))\n",
    "\n",
    "lssrc_s = sorted(lssrc)\n",
    "lssrc\n",
    "lssrc[::-1] #reverse\n"
   ]
  },
  {
   "cell_type": "code",
   "execution_count": 1,
   "metadata": {
    "collapsed": false
   },
   "outputs": [
    {
     "name": "stdout",
     "output_type": "stream",
     "text": [
      "1975\tHoly Grail\n",
      "1983\tThe Meaning of Life\n",
      "1979\tLife of Brian\n"
     ]
    }
   ],
   "source": [
    "# dictionary - basics\n",
    "table = {'1975': 'Holy Grail',\n",
    "         '1979': 'Life of Brian',\n",
    "         '1983': 'The Meaning of Life'}\n",
    "\n",
    "year= '1983'\n",
    "movie = table[year]\n",
    "\n",
    "for year in table:\n",
    "    print(year +'\\t'+table[year])\n"
   ]
  },
  {
   "cell_type": "code",
   "execution_count": 12,
   "metadata": {
    "collapsed": false
   },
   "outputs": [],
   "source": [
    "# dictionary - construct dictionary\n",
    "dfcodes = pd.read_csv('dicttest.csv')\n",
    "\n",
    "dictcodes = {}\n",
    "for idx, name in enumerate(dfcodes['name']):\n",
    "    dictcodes[name] = dfcodes.ix[idx,1]\n"
   ]
  },
  {
   "cell_type": "code",
   "execution_count": 19,
   "metadata": {
    "collapsed": false
   },
   "outputs": [],
   "source": [
    "# dictionary - manipulate with predefined class\n",
    "stockcodes = ['AAPL', 'GOOG', 'MSFT', 'INTL', 'FB']\n",
    "\n",
    "dx = myclasses.MyDict(stockcodes)\n",
    "dictx = dx.GetDict()\n",
    "\n",
    "dy = myclasses.MyDict([])\n",
    "dy.AddCode(stockcodes)"
   ]
  },
  {
   "cell_type": "code",
   "execution_count": 7,
   "metadata": {
    "collapsed": false
   },
   "outputs": [
    {
     "data": {
      "text/plain": [
       "[[0, 0, 0], [0, 0, 0], [0, 0, 0], [0, 0, 0], [0, 0, 0]]"
      ]
     },
     "execution_count": 7,
     "metadata": {},
     "output_type": "execute_result"
    }
   ],
   "source": [
    "# create grid with for loop\n",
    "grid = [[0 for i in range(3)] for j in range(5)]\n",
    "ngrid = np.matrix(grid)\n",
    "grid"
   ]
  },
  {
   "cell_type": "code",
   "execution_count": 1,
   "metadata": {
    "collapsed": false
   },
   "outputs": [
    {
     "data": {
      "text/plain": [
       "['aaaa', 'foo', 'abab', 'bar', 'card']"
      ]
     },
     "execution_count": 1,
     "metadata": {},
     "output_type": "execute_result"
    }
   ],
   "source": [
    "# lambda\n",
    "strings = ['foo', 'card', 'bar', 'aaaa', 'abab']  # sort by number of distinct letters\n",
    "strings.sort(key=lambda x:len(set(list(x))))\n",
    "strings"
   ]
  },
  {
   "cell_type": "code",
   "execution_count": null,
   "metadata": {
    "collapsed": true
   },
   "outputs": [],
   "source": []
  },
  {
   "cell_type": "code",
   "execution_count": null,
   "metadata": {
    "collapsed": true
   },
   "outputs": [],
   "source": []
  }
 ],
 "metadata": {
  "kernelspec": {
   "display_name": "Python [Root]",
   "language": "python",
   "name": "Python [Root]"
  },
  "language_info": {
   "codemirror_mode": {
    "name": "ipython",
    "version": 2
   },
   "file_extension": ".py",
   "mimetype": "text/x-python",
   "name": "python",
   "nbconvert_exporter": "python",
   "pygments_lexer": "ipython2",
   "version": "2.7.12"
  }
 },
 "nbformat": 4,
 "nbformat_minor": 0
}
