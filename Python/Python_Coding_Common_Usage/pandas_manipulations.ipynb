{
 "cells": [
  {
   "cell_type": "code",
   "execution_count": null,
   "metadata": {
    "collapsed": true
   },
   "outputs": [],
   "source": [
    "\"\"\"\n",
    "Common Pandas manipulations\n",
    "\n",
    "\"\"\""
   ]
  },
  {
   "cell_type": "code",
   "execution_count": 1,
   "metadata": {
    "collapsed": true
   },
   "outputs": [],
   "source": [
    "import pandas as pd\n",
    "import numpy as np"
   ]
  },
  {
   "cell_type": "code",
   "execution_count": 3,
   "metadata": {
    "collapsed": false
   },
   "outputs": [],
   "source": [
    "# series\n",
    "obj = pd.Series([1, 2, 3, 6], index=['b', 'c', 'd', 'a'])"
   ]
  },
  {
   "cell_type": "code",
   "execution_count": 25,
   "metadata": {
    "collapsed": false
   },
   "outputs": [],
   "source": [
    "# series - create dataframe from series\n",
    "mcount = 100\n",
    "\n",
    "sts = pd.Series(np.arange(100000, 100000+mcount))\n",
    "sts.name = 'TS'\n",
    "strade_id = pd.Series(np.arange(0, mcount))\n",
    "strade_id.name = 'TradeID'\n",
    "\n",
    "x = np.int32((np.random.randn(mcount)+5)*100)\n",
    "x = x/100.0\n",
    "sprice= pd.Series(x)\n",
    "sprice.name = 'Price'\n",
    "\n",
    "dfall = pd.DataFrame(sts).join(pd.DataFrame(strade_id)).join(pd.DataFrame(sprice))"
   ]
  },
  {
   "cell_type": "code",
   "execution_count": 21,
   "metadata": {
    "collapsed": false
   },
   "outputs": [],
   "source": [
    "# generate and join several dataframes\n",
    "df1 = pd.DataFrame(np.random.randn(2,2), columns = ['A1', 'A2'])\n",
    "df2 = pd.DataFrame(np.random.randn(3,2), columns = ['B1', 'B2'])\n",
    "df3 = pd.DataFrame(np.random.randn(4,2), columns = ['C1', 'C2'])\n",
    "\n",
    "dfx = df1.join(df2, how='outer').join(df3, how='outer')"
   ]
  },
  {
   "cell_type": "code",
   "execution_count": 2,
   "metadata": {
    "collapsed": false
   },
   "outputs": [
    {
     "name": "stderr",
     "output_type": "stream",
     "text": [
      "C:\\Anaconda2\\lib\\site-packages\\ipykernel\\__main__.py:5: FutureWarning: sort(columns=....) is deprecated, use sort_values(by=.....)\n"
     ]
    }
   ],
   "source": [
    "# sort dataframe\n",
    "np.random.seed(0)\n",
    "dfsrc = pd.DataFrame(np.random.randn(5,3), columns = ['C1', 'C2', 'C3'])\n",
    "\n",
    "dfout1 = dfsrc.sort(columns='C2', ascending=False) #sort by C2 in descending order\n",
    "dfout2 = dfsrc.sort_index(axis=0, ascending=False) #sort by row index in descending order\n"
   ]
  },
  {
   "cell_type": "code",
   "execution_count": 61,
   "metadata": {
    "collapsed": false
   },
   "outputs": [],
   "source": [
    "# set index and remove a row\n",
    "# set index\n",
    "df1 = pd.read_csv(\"quote_nasdaq_aapl_m1_2011_onetick_ntc.csv\")\n",
    "df11 = df1[0:100]\n",
    "df11_s = df11[df11.VOLUME<100000]\n",
    "df11_s = df11_s.set_index(np.arange(0, len(df11_s), 1, dtype=np.int64))\n",
    "\n",
    "# remove 3rd row\n",
    "df11_r3 = df11_s.iloc[:3].append(df11_s.iloc[4:])"
   ]
  },
  {
   "cell_type": "code",
   "execution_count": 16,
   "metadata": {
    "collapsed": false
   },
   "outputs": [
    {
     "name": "stdout",
     "output_type": "stream",
     "text": [
      "2015-08-10 09:30:00 1439199000000000000\n"
     ]
    }
   ],
   "source": [
    "# convert to datetime\n",
    "ts = pd.to_datetime('2015-08-10 09:30')\n",
    "print ts, ts.value\n",
    "\n",
    "df = pd.DataFrame({'year': [2015, 2016],\n",
    "                   'month': [2, 3],\n",
    "                   'day': [4, 5]})\n",
    "dfts = pd.to_datetime(df)"
   ]
  },
  {
   "cell_type": "code",
   "execution_count": 55,
   "metadata": {
    "collapsed": false
   },
   "outputs": [
    {
     "name": "stderr",
     "output_type": "stream",
     "text": [
      "C:\\Anaconda2\\lib\\site-packages\\ipykernel\\__main__.py:5: FutureWarning: pd.rolling_sum is deprecated for Series and will be removed in a future version, replace with \n",
      "\tSeries.rolling(window=5,center=False).sum()\n"
     ]
    }
   ],
   "source": [
    "# moving window, rolling\n",
    "df1 = pd.read_csv('quote_nasdaq_aapl_m1_2011_onetick_ntc.csv')\n",
    "df2x = df1\n",
    "s1 = df2x['CLOSE']*df2x['VOLUME']\n",
    "s2 = pd.rolling_sum(s1, 5)"
   ]
  },
  {
   "cell_type": "code",
   "execution_count": 50,
   "metadata": {
    "collapsed": false
   },
   "outputs": [
    {
     "name": "stdout",
     "output_type": "stream",
     "text": [
      "      data1     data2 key1 key2\n",
      "0  1.764052 -0.977278    a  one\n",
      "1  0.400157  0.950088    a  two\n",
      "2  0.978738 -0.151357    b  one\n",
      "3  2.240893 -0.103219    b  two\n",
      "4  1.867558  0.410599    a  one\n",
      "[('a',       data1     data2 key1 key2\n",
      "0  1.764052 -0.977278    a  one\n",
      "1  0.400157  0.950088    a  two\n",
      "4  1.867558  0.410599    a  one), ('b',       data1     data2 key1 key2\n",
      "2  0.978738 -0.151357    b  one\n",
      "3  2.240893 -0.103219    b  two)]\n",
      "[('a', 0    1.764052\n",
      "1    0.400157\n",
      "4    1.867558\n",
      "Name: data1, dtype: float64), ('b', 2    0.978738\n",
      "3    2.240893\n",
      "Name: data1, dtype: float64)]\n"
     ]
    }
   ],
   "source": [
    "# groupby\n",
    "np.random.seed(0)\n",
    "df2 = pd.DataFrame({'key1': ['a', 'a', 'b', 'b', 'a'],\n",
    "                    'key2': ['one', 'two', 'one', 'two', 'one'],\n",
    "                    'data1': np.random.randn(5),\n",
    "                    'data2': np.random.randn(5)})\n",
    "print df2\n",
    "g1 = df2.groupby('key1')\n",
    "print list(g1)\n",
    "g2 = df2['data1'].groupby(df2['key1'])\n",
    "print list(g2)"
   ]
  },
  {
   "cell_type": "code",
   "execution_count": null,
   "metadata": {
    "collapsed": true
   },
   "outputs": [],
   "source": []
  }
 ],
 "metadata": {
  "anaconda-cloud": {},
  "kernelspec": {
   "display_name": "Python [Root]",
   "language": "python",
   "name": "Python [Root]"
  },
  "language_info": {
   "codemirror_mode": {
    "name": "ipython",
    "version": 2
   },
   "file_extension": ".py",
   "mimetype": "text/x-python",
   "name": "python",
   "nbconvert_exporter": "python",
   "pygments_lexer": "ipython2",
   "version": "2.7.12"
  }
 },
 "nbformat": 4,
 "nbformat_minor": 0
}
