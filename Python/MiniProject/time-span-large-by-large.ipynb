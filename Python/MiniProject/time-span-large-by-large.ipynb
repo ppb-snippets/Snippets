{
 "cells": [
  {
   "cell_type": "code",
   "execution_count": 1,
   "metadata": {
    "collapsed": true
   },
   "outputs": [],
   "source": [
    "import time as tm\n",
    "import datetime as dt\n",
    "\n",
    "# numpy\n",
    "import numpy as np\n",
    "# pandas\n",
    "import pandas as pd"
   ]
  },
  {
   "cell_type": "code",
   "execution_count": 2,
   "metadata": {
    "scrolled": true
   },
   "outputs": [
    {
     "name": "stdout",
     "output_type": "stream",
     "text": [
      "       Code                    DateTime\n",
      "0  00148681  2001-09-17 15:44:24.289153\n",
      "1  00126608  2003-01-13 13:55:27.212562\n",
      "2  00001220  2007-10-22 11:54:28.893134\n",
      "3  00105798  2007-08-19 23:20:46.649255\n",
      "4  00004619  2003-05-29 07:22:53.319421\n",
      "            Code                    DateTime\n",
      "999995  00185493  2006-11-02 22:10:07.857828\n",
      "999996  00184652  2006-09-11 05:25:32.953270\n",
      "999997  00086089  2005-09-20 09:45:01.212722\n",
      "999998  00031302  2005-11-20 15:27:07.916446\n",
      "999999  00174236  2006-09-07 12:31:04.216283\n"
     ]
    }
   ],
   "source": [
    "# Make pseudo data set:\n",
    "\n",
    "timestamp_low = 1e9           # 2001-09-09\n",
    "timestamp_high = 1e9 + 2e8    # 2008-01-11\n",
    "total_unit = 200000\n",
    "total_record = 1000000\n",
    "\n",
    "codes = np.random.randint(low=0, \n",
    "                          high=total_unit, \n",
    "                          size=total_record)\n",
    "lst_code = [\"%8.8d\"%(x) for x in codes] \n",
    "\n",
    "# lst_timestamp = np.random.randint(low=timestamp_low,\n",
    "#                                   high=timestamp_high,\n",
    "#                                   size=total_record)\n",
    "x = np.random.random(total_record)\n",
    "lst_timestamp = (timestamp_high - timestamp_low)*x + timestamp_low + x\n",
    "lst_datetime = [str(dt.datetime.fromtimestamp(x)) for x in lst_timestamp]\n",
    "\n",
    "dfData = pd.DataFrame(data=zip(lst_code, lst_datetime), columns=[\"Code\", \"DateTime\"])\n",
    "print dfData.head()\n",
    "print dfData.tail()"
   ]
  },
  {
   "cell_type": "code",
   "execution_count": 3,
   "metadata": {
    "scrolled": true
   },
   "outputs": [
    {
     "name": "stdout",
     "output_type": "stream",
     "text": [
      "       Code                    DateTime                  TimeStamp\n",
      "0  00148681  2001-09-17 15:44:24.289153 2001-09-17 15:44:24.289153\n",
      "1  00126608  2003-01-13 13:55:27.212562 2003-01-13 13:55:27.212562\n",
      "2  00001220  2007-10-22 11:54:28.893134 2007-10-22 11:54:28.893134\n",
      "3  00105798  2007-08-19 23:20:46.649255 2007-08-19 23:20:46.649255\n",
      "4  00004619  2003-05-29 07:22:53.319421 2003-05-29 07:22:53.319421\n",
      "            Code                    DateTime                  TimeStamp\n",
      "999995  00185493  2006-11-02 22:10:07.857828 2006-11-02 22:10:07.857828\n",
      "999996  00184652  2006-09-11 05:25:32.953270 2006-09-11 05:25:32.953270\n",
      "999997  00086089  2005-09-20 09:45:01.212722 2005-09-20 09:45:01.212722\n",
      "999998  00031302  2005-11-20 15:27:07.916446 2005-11-20 15:27:07.916446\n",
      "999999  00174236  2006-09-07 12:31:04.216283 2006-09-07 12:31:04.216283\n",
      "time counsumed = 12.009(s)\n"
     ]
    }
   ],
   "source": [
    "tk1 = tm.clock()\n",
    "\n",
    "ts = dfData['DateTime'].apply(lambda x: dt.datetime.strptime(x,\"%Y-%m-%d %H:%M:%S.%f\"))  # datatime strint -> timestamp long int\n",
    "dfData['TimeStamp'] = ts   # append timestamp as a new column of dfData\n",
    "\n",
    "tk2 = tm.clock()\n",
    "print dfData.head()\n",
    "print dfData.tail()\n",
    "print 'time counsumed = %1.3f(s)'%(tk2-tk1)"
   ]
  },
  {
   "cell_type": "code",
   "execution_count": 4,
   "metadata": {},
   "outputs": [
    {
     "name": "stdout",
     "output_type": "stream",
     "text": [
      "type= <class 'pandas.core.series.Series'>\n",
      "size= 198596\n",
      "Code\n",
      "00000000    159 days 18:15:41.550073\n",
      "00000001             0 days 00:00:00\n",
      "00000002   1323 days 05:38:06.906408\n",
      "00000003    320 days 17:40:21.613439\n",
      "00000004   2037 days 16:50:45.300261\n",
      "Name: TimeStamp, dtype: timedelta64[ns]\n",
      "time counsumed = 0.398(s)\n",
      "\n",
      "total time consumed = 12.407(s)\n"
     ]
    }
   ],
   "source": [
    "tk3= tm.clock()\n",
    "\n",
    "gpTS = dfData.groupby('Code', sort=True)['TimeStamp']   # Col'TimeStamp' is grouped by 'Code'\n",
    "smax = gpTS.max()     # maximum timestamp value of each group\n",
    "smin = gpTS.min()     # minimum timestamp value of each group\n",
    "sdiff = smax - smin   # difference/time-span of each group\n",
    "\n",
    "tk4= tm.clock()\n",
    "\n",
    "print 'type=',type(sdiff)\n",
    "print 'size=',len(sdiff)\n",
    "print sdiff.head()\n",
    "\n",
    "print 'time counsumed = %1.3f(s)'%(tk4-tk3)\n",
    "print '\\ntotal time consumed = %1.3f(s)'%((tk2-tk1)+(tk4-tk3))"
   ]
  },
  {
   "cell_type": "code",
   "execution_count": 5,
   "metadata": {},
   "outputs": [
    {
     "name": "stdout",
     "output_type": "stream",
     "text": [
      "type= <class 'pandas._libs.tslib.Timedelta'>\n",
      "diff_ns= 149519177798638000 (ns)\n",
      "diff_second= 149519177.799 (s)\n",
      "diff_day= 1730.54603934 (day)\n"
     ]
    }
   ],
   "source": [
    "# retrieve by code:\n",
    "\n",
    "codex = '00000010'     # code = '00000010' \n",
    "diffx = sdiff[codex]   # time-delta = diffx\n",
    "print 'type=',type(diffx)\n",
    "print 'diff_ns=', diffx.value,'(ns)'  # time-delta value(numpy int64) in unit of ns\n",
    "print 'diff_second=', diffx.value/1e9,'(s)'\n",
    "print 'diff_day=', diffx.value/(1e9*3600*24),'(day)'"
   ]
  },
  {
   "cell_type": "code",
   "execution_count": null,
   "metadata": {
    "collapsed": true
   },
   "outputs": [],
   "source": []
  },
  {
   "cell_type": "code",
   "execution_count": null,
   "metadata": {
    "collapsed": true
   },
   "outputs": [],
   "source": []
  },
  {
   "cell_type": "code",
   "execution_count": null,
   "metadata": {
    "collapsed": true
   },
   "outputs": [],
   "source": []
  }
 ],
 "metadata": {
  "kernelspec": {
   "display_name": "Python 2",
   "language": "python",
   "name": "python2"
  },
  "language_info": {
   "codemirror_mode": {
    "name": "ipython",
    "version": 2
   },
   "file_extension": ".py",
   "mimetype": "text/x-python",
   "name": "python",
   "nbconvert_exporter": "python",
   "pygments_lexer": "ipython2",
   "version": "2.7.14"
  }
 },
 "nbformat": 4,
 "nbformat_minor": 2
}
