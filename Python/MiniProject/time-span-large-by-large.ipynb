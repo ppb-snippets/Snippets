{
 "cells": [
  {
   "cell_type": "code",
   "execution_count": 1,
   "metadata": {
    "collapsed": true
   },
   "outputs": [],
   "source": [
    "import time as tm\n",
    "import datetime as dt\n",
    "\n",
    "# numpy\n",
    "import numpy as np\n",
    "# pandas\n",
    "import pandas as pd"
   ]
  },
  {
   "cell_type": "code",
   "execution_count": 2,
   "metadata": {
    "scrolled": true
   },
   "outputs": [
    {
     "name": "stdout",
     "output_type": "stream",
     "text": [
      "       Code                    DateTime\n",
      "0  00167021  2004-08-15 11:00:08.259399\n",
      "1  00169658  2002-01-22 11:56:59.068658\n",
      "2  00144028  2007-08-20 14:42:09.183910\n",
      "3  00146634  2005-06-23 03:13:46.585996\n",
      "4  00090143  2007-01-12 08:09:00.520019\n",
      "            Code                    DateTime\n",
      "999995  00142479  2003-08-19 22:55:10.041485\n",
      "999996  00060052  2005-08-18 02:19:05.714771\n",
      "999997  00089672  2002-06-18 21:00:34.658115\n",
      "999998  00030558  2002-10-26 02:37:30.816473\n",
      "999999  00199453  2007-09-18 23:53:24.558313\n"
     ]
    }
   ],
   "source": [
    "# Make pseudo data set:\n",
    "\n",
    "timestamp_low = 1e9           # 2001-09-09\n",
    "timestamp_high = 1e9 + 2e8    # 2008-01-11\n",
    "total_unit = 200000\n",
    "total_record = 1000000\n",
    "\n",
    "codes = np.random.randint(low=0, \n",
    "                          high=total_unit, \n",
    "                          size=total_record)\n",
    "lst_code = [\"%8.8d\"%(x) for x in codes] \n",
    "\n",
    "# lst_timestamp = np.random.randint(low=timestamp_low,\n",
    "#                                   high=timestamp_high,\n",
    "#                                   size=total_record)\n",
    "x = np.random.random(total_record)\n",
    "lst_timestamp = (timestamp_high - timestamp_low)*x + timestamp_low + x\n",
    "lst_datetime = [str(dt.datetime.fromtimestamp(x)) for x in lst_timestamp]\n",
    "\n",
    "dfData = pd.DataFrame(data=zip(lst_code, lst_datetime), columns=[\"Code\", \"DateTime\"])\n",
    "print dfData.head()\n",
    "print dfData.tail()"
   ]
  },
  {
   "cell_type": "code",
   "execution_count": 3,
   "metadata": {
    "scrolled": true
   },
   "outputs": [
    {
     "name": "stdout",
     "output_type": "stream",
     "text": [
      "       Code                    DateTime                  TimeStamp\n",
      "0  00167021  2004-08-15 11:00:08.259399 2004-08-15 11:00:08.259399\n",
      "1  00169658  2002-01-22 11:56:59.068658 2002-01-22 11:56:59.068658\n",
      "2  00144028  2007-08-20 14:42:09.183910 2007-08-20 14:42:09.183910\n",
      "3  00146634  2005-06-23 03:13:46.585996 2005-06-23 03:13:46.585996\n",
      "4  00090143  2007-01-12 08:09:00.520019 2007-01-12 08:09:00.520019\n",
      "            Code                    DateTime                  TimeStamp\n",
      "999995  00142479  2003-08-19 22:55:10.041485 2003-08-19 22:55:10.041485\n",
      "999996  00060052  2005-08-18 02:19:05.714771 2005-08-18 02:19:05.714771\n",
      "999997  00089672  2002-06-18 21:00:34.658115 2002-06-18 21:00:34.658115\n",
      "999998  00030558  2002-10-26 02:37:30.816473 2002-10-26 02:37:30.816473\n",
      "999999  00199453  2007-09-18 23:53:24.558313 2007-09-18 23:53:24.558313\n",
      "time counsumed = 0.254(s)\n"
     ]
    }
   ],
   "source": [
    "# Generate a new column of timestamp:\n",
    "\n",
    "tk1 = tm.clock()\n",
    "\n",
    "dfData['TimeStamp'] = pd.to_datetime(dfData['DateTime'])   # append timestamp as a new column of dfData\n",
    "\n",
    "tk2 = tm.clock()\n",
    "print dfData.head()\n",
    "print dfData.tail()\n",
    "print 'time counsumed = %1.3f(s)'%(tk2-tk1)"
   ]
  },
  {
   "cell_type": "code",
   "execution_count": 4,
   "metadata": {},
   "outputs": [
    {
     "name": "stdout",
     "output_type": "stream",
     "text": [
      "type= <class 'pandas.core.series.Series'>\n",
      "size= 198636\n",
      "Code\n",
      "00000000   1331 days 05:32:59.985591\n",
      "00000001   1833 days 01:17:04.174310\n",
      "00000002   1564 days 10:56:11.484553\n",
      "00000003   1579 days 12:10:04.948714\n",
      "00000004   2176 days 08:40:15.293787\n",
      "Name: TimeStamp, dtype: timedelta64[ns]\n",
      "time counsumed = 0.426(s)\n",
      "\n",
      "total time consumed = 0.680(s)\n"
     ]
    }
   ],
   "source": [
    "# Calculate time span of each group/code:\n",
    "\n",
    "tk3= tm.clock()\n",
    "\n",
    "gpTS = dfData.groupby('Code', sort=True)['TimeStamp']   # Col'TimeStamp' is grouped by 'Code'\n",
    "smax = gpTS.max()     # maximum timestamp value of each group\n",
    "smin = gpTS.min()     # minimum timestamp value of each group\n",
    "sdiff = smax - smin   # difference/time-span of each group\n",
    "\n",
    "tk4= tm.clock()\n",
    "\n",
    "print 'type=',type(sdiff)\n",
    "print 'size=',len(sdiff)\n",
    "print sdiff.head()\n",
    "\n",
    "print 'time counsumed = %1.3f(s)'%(tk4-tk3)\n",
    "print '\\ntotal time consumed = %1.3f(s)'%((tk2-tk1)+(tk4-tk3))"
   ]
  },
  {
   "cell_type": "code",
   "execution_count": 5,
   "metadata": {},
   "outputs": [
    {
     "name": "stdout",
     "output_type": "stream",
     "text": [
      "type= <class 'pandas._libs.tslib.Timedelta'>\n",
      "diff_ns= 144288254976139000 (ns)\n",
      "diff_second= 144288254.976 (s)\n",
      "diff_day= 1670.00295111 (day)\n"
     ]
    }
   ],
   "source": [
    "# retrieve time span by code:\n",
    "\n",
    "codex = '00000010'     # code = '00000010' \n",
    "diffx = sdiff[codex]   # time-delta = diffx\n",
    "print 'type=',type(diffx)\n",
    "print 'diff_ns=', diffx.value,'(ns)'  # time-delta value(numpy int64) in unit of ns\n",
    "print 'diff_second=', diffx.value/1e9,'(s)'\n",
    "print 'diff_day=', diffx.value/(1e9*3600*24),'(day)'"
   ]
  },
  {
   "cell_type": "code",
   "execution_count": null,
   "metadata": {
    "collapsed": true
   },
   "outputs": [],
   "source": []
  },
  {
   "cell_type": "code",
   "execution_count": null,
   "metadata": {
    "collapsed": true
   },
   "outputs": [],
   "source": []
  },
  {
   "cell_type": "code",
   "execution_count": null,
   "metadata": {
    "collapsed": true
   },
   "outputs": [],
   "source": []
  }
 ],
 "metadata": {
  "kernelspec": {
   "display_name": "Python 2",
   "language": "python",
   "name": "python2"
  },
  "language_info": {
   "codemirror_mode": {
    "name": "ipython",
    "version": 2
   },
   "file_extension": ".py",
   "mimetype": "text/x-python",
   "name": "python",
   "nbconvert_exporter": "python",
   "pygments_lexer": "ipython2",
   "version": "2.7.14"
  }
 },
 "nbformat": 4,
 "nbformat_minor": 2
}
